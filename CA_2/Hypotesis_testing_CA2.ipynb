{
 "cells": [
  {
   "cell_type": "markdown",
   "id": "b5263ae2",
   "metadata": {},
   "source": [
    "## Loading dataset and importing liabrary "
   ]
  },
  {
   "cell_type": "code",
   "execution_count": 1,
   "id": "6d53acbc",
   "metadata": {},
   "outputs": [],
   "source": [
    "import matplotlib.pyplot as plt\n",
    "import seaborn as sns\n",
    "import pandas as pd\n",
    "import numpy as np\n",
    "sns.set_theme()"
   ]
  },
  {
   "cell_type": "code",
   "execution_count": 2,
   "id": "930b0cfe",
   "metadata": {},
   "outputs": [],
   "source": [
    "df = pd.read_csv(\"Q1.csv\")"
   ]
  },
  {
   "cell_type": "markdown",
   "id": "b202a375",
   "metadata": {},
   "source": [
    "## EDA"
   ]
  },
  {
   "cell_type": "code",
   "execution_count": 3,
   "id": "158e9d86",
   "metadata": {},
   "outputs": [
    {
     "data": {
      "text/html": [
       "<div>\n",
       "<style scoped>\n",
       "    .dataframe tbody tr th:only-of-type {\n",
       "        vertical-align: middle;\n",
       "    }\n",
       "\n",
       "    .dataframe tbody tr th {\n",
       "        vertical-align: top;\n",
       "    }\n",
       "\n",
       "    .dataframe thead th {\n",
       "        text-align: right;\n",
       "    }\n",
       "</style>\n",
       "<table border=\"1\" class=\"dataframe\">\n",
       "  <thead>\n",
       "    <tr style=\"text-align: right;\">\n",
       "      <th></th>\n",
       "      <th>exam_score</th>\n",
       "    </tr>\n",
       "  </thead>\n",
       "  <tbody>\n",
       "    <tr>\n",
       "      <th>0</th>\n",
       "      <td>74.54</td>\n",
       "    </tr>\n",
       "    <tr>\n",
       "      <th>1</th>\n",
       "      <td>66.20</td>\n",
       "    </tr>\n",
       "    <tr>\n",
       "      <th>2</th>\n",
       "      <td>86.75</td>\n",
       "    </tr>\n",
       "    <tr>\n",
       "      <th>3</th>\n",
       "      <td>70.87</td>\n",
       "    </tr>\n",
       "    <tr>\n",
       "      <th>4</th>\n",
       "      <td>80.43</td>\n",
       "    </tr>\n",
       "  </tbody>\n",
       "</table>\n",
       "</div>"
      ],
      "text/plain": [
       "   exam_score\n",
       "0       74.54\n",
       "1       66.20\n",
       "2       86.75\n",
       "3       70.87\n",
       "4       80.43"
      ]
     },
     "execution_count": 3,
     "metadata": {},
     "output_type": "execute_result"
    }
   ],
   "source": [
    "df.head()"
   ]
  },
  {
   "cell_type": "code",
   "execution_count": 4,
   "id": "2c1d8518",
   "metadata": {},
   "outputs": [
    {
     "data": {
      "text/plain": [
       "(50, 1)"
      ]
     },
     "execution_count": 4,
     "metadata": {},
     "output_type": "execute_result"
    }
   ],
   "source": [
    "df.shape"
   ]
  },
  {
   "cell_type": "code",
   "execution_count": 5,
   "id": "1410f47d",
   "metadata": {},
   "outputs": [
    {
     "data": {
      "text/plain": [
       "exam_score    0\n",
       "dtype: int64"
      ]
     },
     "execution_count": 5,
     "metadata": {},
     "output_type": "execute_result"
    }
   ],
   "source": [
    "df.isnull().sum()"
   ]
  },
  {
   "cell_type": "code",
   "execution_count": 6,
   "id": "85338c6c",
   "metadata": {},
   "outputs": [
    {
     "data": {
      "text/plain": [
       "exam_score    float64\n",
       "dtype: object"
      ]
     },
     "execution_count": 6,
     "metadata": {},
     "output_type": "execute_result"
    }
   ],
   "source": [
    "df.dtypes"
   ]
  },
  {
   "cell_type": "code",
   "execution_count": 7,
   "id": "4ae03f21",
   "metadata": {},
   "outputs": [
    {
     "data": {
      "text/html": [
       "<div>\n",
       "<style scoped>\n",
       "    .dataframe tbody tr th:only-of-type {\n",
       "        vertical-align: middle;\n",
       "    }\n",
       "\n",
       "    .dataframe tbody tr th {\n",
       "        vertical-align: top;\n",
       "    }\n",
       "\n",
       "    .dataframe thead th {\n",
       "        text-align: right;\n",
       "    }\n",
       "</style>\n",
       "<table border=\"1\" class=\"dataframe\">\n",
       "  <thead>\n",
       "    <tr style=\"text-align: right;\">\n",
       "      <th></th>\n",
       "      <th>exam_score</th>\n",
       "    </tr>\n",
       "  </thead>\n",
       "  <tbody>\n",
       "    <tr>\n",
       "      <th>count</th>\n",
       "      <td>50.000000</td>\n",
       "    </tr>\n",
       "    <tr>\n",
       "      <th>mean</th>\n",
       "      <td>68.735600</td>\n",
       "    </tr>\n",
       "    <tr>\n",
       "      <th>std</th>\n",
       "      <td>9.750143</td>\n",
       "    </tr>\n",
       "    <tr>\n",
       "      <th>min</th>\n",
       "      <td>48.730000</td>\n",
       "    </tr>\n",
       "    <tr>\n",
       "      <th>25%</th>\n",
       "      <td>62.040000</td>\n",
       "    </tr>\n",
       "    <tr>\n",
       "      <th>50%</th>\n",
       "      <td>68.390000</td>\n",
       "    </tr>\n",
       "    <tr>\n",
       "      <th>75%</th>\n",
       "      <td>74.630000</td>\n",
       "    </tr>\n",
       "    <tr>\n",
       "      <th>max</th>\n",
       "      <td>87.360000</td>\n",
       "    </tr>\n",
       "  </tbody>\n",
       "</table>\n",
       "</div>"
      ],
      "text/plain": [
       "       exam_score\n",
       "count   50.000000\n",
       "mean    68.735600\n",
       "std      9.750143\n",
       "min     48.730000\n",
       "25%     62.040000\n",
       "50%     68.390000\n",
       "75%     74.630000\n",
       "max     87.360000"
      ]
     },
     "execution_count": 7,
     "metadata": {},
     "output_type": "execute_result"
    }
   ],
   "source": [
    "df.describe()"
   ]
  },
  {
   "cell_type": "markdown",
   "id": "d5c15a86",
   "metadata": {},
   "source": [
    "## Eplain describe\n",
    "1. Count: Their are 50 counts which means there are 50 observations in the Q1 dataset. \n",
    "2. Mean: This is the avearge score of the 50 sample students the Dublin secondary school. \n",
    "3. Standard deviation: It discribes how close or far away are the obsevations from the mean, the student scores have a small std this result suggest their data are thightly close to the mean.\n",
    "4. Min: This is the minimum score from the 50 students exam scores.\n",
    "5. 25%\n",
    "6. 50%\n",
    "7. 75%\n",
    "8. Max: This is the maximum score from the 50 students exam scores."
   ]
  },
  {
   "cell_type": "markdown",
   "id": "bdf25784",
   "metadata": {},
   "source": [
    "1. Load the dataset Q1.csv. It contains the exam scores (in percentages) of a sample of 50 students \n",
    "   from a Dublin secondary school. \n",
    "2. Find and comment on important summary statistics and produce an appropriate plot to \n",
    "   summarise the dataset. \n",
    "3. One of the teachers is concerned about the performance of the students in the school. She \n",
    "   suspects that their performance may be below the reported national average of 70%. Does \n",
    "   the data show that her concerns are justified? Use a significance level of alpha = 0.05. \n",
    "4. Produce and comment on an appropriate plot to illustrate your findings. "
   ]
  },
  {
   "cell_type": "markdown",
   "id": "9422bf7e",
   "metadata": {},
   "source": [
    "## Use function to get the other number summary"
   ]
  },
  {
   "cell_type": "markdown",
   "id": "1e94597c",
   "metadata": {},
   "source": [
    "## Box plot"
   ]
  },
  {
   "cell_type": "code",
   "execution_count": 8,
   "id": "6d03eb2d",
   "metadata": {},
   "outputs": [
    {
     "data": {
      "image/png": "[encoded data removed]",
      "text/plain": [
       "<Figure size 600x400 with 1 Axes>"
      ]
     },
     "metadata": {},
     "output_type": "display_data"
    }
   ],
   "source": [
    "plt.figure(figsize=(6,4)) # Setting the plot size\n",
    "sns.boxplot(data= df['exam_score'])\n",
    "plt.title(\"Student exam score distribution\")\n",
    "plt.show()"
   ]
  },
  {
   "cell_type": "code",
   "execution_count": 9,
   "id": "0c1e0655",
   "metadata": {},
   "outputs": [
    {
     "name": "stderr",
     "output_type": "stream",
     "text": [
      "C:\\Users\\timay\\AppData\\Local\\Temp\\ipykernel_49980\\3570274249.py:2: UserWarning: \n",
      "\n",
      "`distplot` is a deprecated function and will be removed in seaborn v0.14.0.\n",
      "\n",
      "Please adapt your code to use either `displot` (a figure-level function with\n",
      "similar flexibility) or `histplot` (an axes-level function for histograms).\n",
      "\n",
      "For a guide to updating your code to use the new functions, please see\n",
      "https://gist.github.com/mwaskom/de44147ed2974457ad6372750bbe5751\n",
      "\n",
      "  sns.distplot(df[\"exam_score\"], kde= True)\n"
     ]
    },
    {
     "data": {
      "image/png": "[encoded data removed]",
      "text/plain": [
       "<Figure size 600x400 with 1 Axes>"
      ]
     },
     "metadata": {},
     "output_type": "display_data"
    }
   ],
   "source": [
    "plt.figure(figsize=(6,4))\n",
    "sns.distplot(df[\"exam_score\"], kde= True)\n",
    "plt.xlabel(\"Students score\")\n",
    "plt.ylabel(\"Count\")\n",
    "plt.title(\"Exam_score\")\n",
    "plt.show()"
   ]
  },
  {
   "cell_type": "code",
   "execution_count": 10,
   "id": "f1b9eec3",
   "metadata": {},
   "outputs": [
    {
     "data": {
      "image/png": "[encoded data removed]",
      "text/plain": [
       "<Figure size 600x600 with 1 Axes>"
      ]
     },
     "metadata": {},
     "output_type": "display_data"
    }
   ],
   "source": [
    "plt.figure(figsize=(6,6))\n",
    "sns.kdeplot(df[\"exam_score\"])\n",
    "plt.xlabel(\"Students score\")\n",
    "plt.ylabel(\"Count\")\n",
    "plt.title(\"Exam_score\")\n",
    "plt.show()"
   ]
  },
  {
   "attachments": {
    "image.png": {
     "image/png": "[encoded data removed]"
    }
   },
   "cell_type": "markdown",
   "id": "d25d7f50",
   "metadata": {},
   "source": [
    "## Question 1b\n",
    " One of the teachers is concerned about the performance of the students in the school. She \n",
    "suspects that their performance may be below the reported national average of 70%. Does \n",
    "the data show that her concerns are justified? Use a significance level of alpha = 0.05.\n",
    "\n",
    "### Parameters:\n",
    "1. Sample size(n)= 50\n",
    "2. sample Mean: 68.735600\n",
    "3. Standard deviation: 9.750143\n",
    "4. Null-Hypotesis(H0): >= 70%\n",
    "5. Alternate-Hypothesis(Ha): < 70%\n",
    "6. alpha = 0.05\n",
    "\n",
    "###### Hypotesis question: \n",
    "Do we have enough evidence to support the teachers H0 the some students score less than 70%?\n",
    "\n",
    "## Answer rationeal:\n",
    "#### Tail test?\n",
    "This is a Left tail test because we are trying to determin if the sudents average is below the national average of 70%. i.e the alternate hypotesis is less than the null-hypotesis.\n",
    "#### Type of test method: \n",
    "Given the sample size is 50 and we have a known sample standard deviation, we are goin to use the Z-test.   \n",
    "#### Formular:\n",
    "![image.png](attachment:image.png)"
   ]
  },
  {
   "cell_type": "code",
   "execution_count": 11,
   "id": "59d0606a",
   "metadata": {},
   "outputs": [],
   "source": [
    "from scipy import stats\n",
    "import math as mt\n",
    "import scipy.stats as stats"
   ]
  },
  {
   "cell_type": "code",
   "execution_count": 12,
   "id": "5416c8d6",
   "metadata": {},
   "outputs": [
    {
     "data": {
      "text/plain": [
       "TtestResult(statistic=array([-0.91697714]), pvalue=array([0.36364597]), df=array([49]))"
      ]
     },
     "execution_count": 12,
     "metadata": {},
     "output_type": "execute_result"
    }
   ],
   "source": [
    "stats.ttest_1samp(df, popmean=70)"
   ]
  },
  {
   "cell_type": "markdown",
   "id": "033071d1",
   "metadata": {},
   "source": [
    "## Checking manually"
   ]
  },
  {
   "cell_type": "code",
   "execution_count": 13,
   "id": "8d4d4dac",
   "metadata": {},
   "outputs": [
    {
     "name": "stdout",
     "output_type": "stream",
     "text": [
      "Test statistic: -0.9169771295992962\n"
     ]
    }
   ],
   "source": [
    "# Define parameters for the test (population mean and standard deviation)\n",
    "population_mean = 70 # Replace this with the expected population mean\n",
    "#sample = data\n",
    "sample_mean = 68.735600\n",
    "sample_std = 9.750143\n",
    "\n",
    "# Number of observations in the sample\n",
    "n = 50\n",
    "\n",
    "# Calculate the Z-score\n",
    "#z_score = (sample_mean - population_mean) / (sample_std / mt.sqrt(n))\n",
    "#(xbar-mu)/(s/math.sqrt(n)))\n",
    "\n",
    "# Calculate the p-value\n",
    "\n",
    "#p_value = stats.norm.cdf(z_score)  # confirm if this is correct\n",
    "\n",
    "# Print Z-score and p-value\n",
    "\n",
    "print(\"Test statistic:\",(sample_mean-population_mean)/(sample_std/mt.sqrt(n)))\n",
    "\n",
    "#print(f\"P-value: {p_value}\")"
   ]
  },
  {
   "cell_type": "markdown",
   "id": "44fd6b86",
   "metadata": {},
   "source": [
    "# Conclusion:\n",
    "\n",
    "At 95% confidence interval, and 0.05 alpha, we fail to reject the null hypothesis. This is becasuse the value of p-value(***write p vlue***) is not less than the alpha value (0.05). \n",
    "\n",
    "This in conclusion suggests that we have not foul enough evidence to substantiate the teaches clain of a less national average score for the student exam result. This howeve does not validat or confirmn that the student actually average above or at least the meanimum national average. "
   ]
  },
  {
   "cell_type": "code",
   "execution_count": 14,
   "id": "40e9c531",
   "metadata": {},
   "outputs": [
    {
     "data": {
      "text/plain": [
       "<matplotlib.lines.Line2D at 0x2041905a010>"
      ]
     },
     "execution_count": 14,
     "metadata": {},
     "output_type": "execute_result"
    },
    {
     "data": {
      "image/png": "[encoded data removed]",
      "text/plain": [
       "<Figure size 640x480 with 1 Axes>"
      ]
     },
     "metadata": {},
     "output_type": "display_data"
    }
   ],
   "source": [
    "result = plt.hist(df, bins=7, color = \"c\", edgecolor = \"k\", alpha =0.65) # parameters for thr histograme\n",
    "# add inthe popmean and mu to see how far off thr mean is the predicted value is \n",
    "plt.axvline(sample_mean, color = \"k\", linestyle =\"dashed\", linewidth = 2)\n",
    "plt.axvline(population_mean, color=\"red\",linestyle =\"solid\", linewidth = 2)"
   ]
  },
  {
   "cell_type": "markdown",
   "id": "9e939d69",
   "metadata": {},
   "source": [
    "The read line indicate wehre thr nation average is and the broken line represent he studet average. Contrary to what our test suggest but thsi evedent is not substantial enough to reject null hypothesis. It is how ever visually clear that null hypotheses is not accurate either."
   ]
  },
  {
   "cell_type": "code",
   "execution_count": 15,
   "id": "a3654473",
   "metadata": {},
   "outputs": [
    {
     "data": {
      "text/plain": [
       "TtestResult(statistic=array([-0.91697714]), pvalue=array([0.36364597]), df=array([49]))"
      ]
     },
     "execution_count": 15,
     "metadata": {},
     "output_type": "execute_result"
    }
   ],
   "source": [
    "stats.ttest_1samp(df, popmean=70)\n",
    "# chech if this is correct "
   ]
  },
  {
   "cell_type": "markdown",
   "id": "e94a47cb",
   "metadata": {},
   "source": [
    "# Qestion 2: \n",
    "Load the diamonds dataset, and print the first 5 rows. \n",
    "\n",
    "2. The color variable refers to the colour of the diamond, with categories from “D” to “J”. Colourless diamonds are considered better than diamonds with a yellow tint. Diamonds from “D” to “F” are considered colourless, and diamonds from colour “G” to “J” are not considered colourless (that is, they have a very faint colour).\n",
    "\n",
    "3. Create a new binary variable in the dataframe called “colourless” which records 1 in rows with colourless diamonds and 0 otherwise.\n",
    "4. Perform an appropriate hypothesis test to determine whether there is any association between the clarity of a diamond and whether it is colourless or not. Use a significance level of alpha = 0.01.\n",
    "5. Produce and comment on an appropriate plot to illustrate your findings. \n",
    "6. Find and interpret 90% confidence intervals for both the mean price of colourless diamonds and the mean price of non-colourless diamonds."
   ]
  },
  {
   "cell_type": "markdown",
   "id": "25c2adcd",
   "metadata": {},
   "source": [
    "## Loading dataset"
   ]
  },
  {
   "cell_type": "code",
   "execution_count": 16,
   "id": "6b66aa55",
   "metadata": {},
   "outputs": [],
   "source": [
    "diamond=sns.load_dataset('diamonds')"
   ]
  },
  {
   "cell_type": "markdown",
   "id": "540ad287",
   "metadata": {},
   "source": [
    "## Print first five rows"
   ]
  },
  {
   "cell_type": "code",
   "execution_count": 17,
   "id": "082f231c",
   "metadata": {},
   "outputs": [
    {
     "data": {
      "text/html": [
       "<div>\n",
       "<style scoped>\n",
       "    .dataframe tbody tr th:only-of-type {\n",
       "        vertical-align: middle;\n",
       "    }\n",
       "\n",
       "    .dataframe tbody tr th {\n",
       "        vertical-align: top;\n",
       "    }\n",
       "\n",
       "    .dataframe thead th {\n",
       "        text-align: right;\n",
       "    }\n",
       "</style>\n",
       "<table border=\"1\" class=\"dataframe\">\n",
       "  <thead>\n",
       "    <tr style=\"text-align: right;\">\n",
       "      <th></th>\n",
       "      <th>carat</th>\n",
       "      <th>cut</th>\n",
       "      <th>color</th>\n",
       "      <th>clarity</th>\n",
       "      <th>depth</th>\n",
       "      <th>table</th>\n",
       "      <th>price</th>\n",
       "      <th>x</th>\n",
       "      <th>y</th>\n",
       "      <th>z</th>\n",
       "    </tr>\n",
       "  </thead>\n",
       "  <tbody>\n",
       "    <tr>\n",
       "      <th>0</th>\n",
       "      <td>0.23</td>\n",
       "      <td>Ideal</td>\n",
       "      <td>E</td>\n",
       "      <td>SI2</td>\n",
       "      <td>61.5</td>\n",
       "      <td>55.0</td>\n",
       "      <td>326</td>\n",
       "      <td>3.95</td>\n",
       "      <td>3.98</td>\n",
       "      <td>2.43</td>\n",
       "    </tr>\n",
       "    <tr>\n",
       "      <th>1</th>\n",
       "      <td>0.21</td>\n",
       "      <td>Premium</td>\n",
       "      <td>E</td>\n",
       "      <td>SI1</td>\n",
       "      <td>59.8</td>\n",
       "      <td>61.0</td>\n",
       "      <td>326</td>\n",
       "      <td>3.89</td>\n",
       "      <td>3.84</td>\n",
       "      <td>2.31</td>\n",
       "    </tr>\n",
       "    <tr>\n",
       "      <th>2</th>\n",
       "      <td>0.23</td>\n",
       "      <td>Good</td>\n",
       "      <td>E</td>\n",
       "      <td>VS1</td>\n",
       "      <td>56.9</td>\n",
       "      <td>65.0</td>\n",
       "      <td>327</td>\n",
       "      <td>4.05</td>\n",
       "      <td>4.07</td>\n",
       "      <td>2.31</td>\n",
       "    </tr>\n",
       "    <tr>\n",
       "      <th>3</th>\n",
       "      <td>0.29</td>\n",
       "      <td>Premium</td>\n",
       "      <td>I</td>\n",
       "      <td>VS2</td>\n",
       "      <td>62.4</td>\n",
       "      <td>58.0</td>\n",
       "      <td>334</td>\n",
       "      <td>4.20</td>\n",
       "      <td>4.23</td>\n",
       "      <td>2.63</td>\n",
       "    </tr>\n",
       "    <tr>\n",
       "      <th>4</th>\n",
       "      <td>0.31</td>\n",
       "      <td>Good</td>\n",
       "      <td>J</td>\n",
       "      <td>SI2</td>\n",
       "      <td>63.3</td>\n",
       "      <td>58.0</td>\n",
       "      <td>335</td>\n",
       "      <td>4.34</td>\n",
       "      <td>4.35</td>\n",
       "      <td>2.75</td>\n",
       "    </tr>\n",
       "  </tbody>\n",
       "</table>\n",
       "</div>"
      ],
      "text/plain": [
       "   carat      cut color clarity  depth  table  price     x     y     z\n",
       "0   0.23    Ideal     E     SI2   61.5   55.0    326  3.95  3.98  2.43\n",
       "1   0.21  Premium     E     SI1   59.8   61.0    326  3.89  3.84  2.31\n",
       "2   0.23     Good     E     VS1   56.9   65.0    327  4.05  4.07  2.31\n",
       "3   0.29  Premium     I     VS2   62.4   58.0    334  4.20  4.23  2.63\n",
       "4   0.31     Good     J     SI2   63.3   58.0    335  4.34  4.35  2.75"
      ]
     },
     "execution_count": 17,
     "metadata": {},
     "output_type": "execute_result"
    }
   ],
   "source": [
    "diamond.head()"
   ]
  },
  {
   "cell_type": "markdown",
   "id": "2ae78622",
   "metadata": {},
   "source": [
    "As shown above, diamonds dataset was loaded usinf seaborn liabrary, and assigned to the variablke diamonds. The '.head()' method in pandas was used to print the first five rows of diamonds datafarme.  "
   ]
  },
  {
   "cell_type": "markdown",
   "id": "bf9c53b5",
   "metadata": {},
   "source": [
    "### EDA"
   ]
  },
  {
   "cell_type": "code",
   "execution_count": 18,
   "id": "58f41c42",
   "metadata": {},
   "outputs": [
    {
     "data": {
      "text/plain": [
       "(53940, 10)"
      ]
     },
     "execution_count": 18,
     "metadata": {},
     "output_type": "execute_result"
    }
   ],
   "source": [
    "diamond.shape"
   ]
  },
  {
   "cell_type": "code",
   "execution_count": 19,
   "id": "7829a5ac",
   "metadata": {},
   "outputs": [
    {
     "data": {
      "text/plain": [
       "carat      0\n",
       "cut        0\n",
       "color      0\n",
       "clarity    0\n",
       "depth      0\n",
       "table      0\n",
       "price      0\n",
       "x          0\n",
       "y          0\n",
       "z          0\n",
       "dtype: int64"
      ]
     },
     "execution_count": 19,
     "metadata": {},
     "output_type": "execute_result"
    }
   ],
   "source": [
    "diamond.isnull().sum()"
   ]
  },
  {
   "cell_type": "code",
   "execution_count": 20,
   "id": "3c9fffc0",
   "metadata": {},
   "outputs": [
    {
     "data": {
      "text/plain": [
       "0        False\n",
       "1        False\n",
       "2        False\n",
       "3        False\n",
       "4        False\n",
       "         ...  \n",
       "53935    False\n",
       "53936    False\n",
       "53937    False\n",
       "53938    False\n",
       "53939    False\n",
       "Length: 53940, dtype: bool"
      ]
     },
     "execution_count": 20,
     "metadata": {},
     "output_type": "execute_result"
    }
   ],
   "source": [
    "diamond.duplicated()"
   ]
  },
  {
   "cell_type": "code",
   "execution_count": 21,
   "id": "513c2bf5",
   "metadata": {},
   "outputs": [
    {
     "data": {
      "text/plain": [
       "146"
      ]
     },
     "execution_count": 21,
     "metadata": {},
     "output_type": "execute_result"
    }
   ],
   "source": [
    "diamond.duplicated().sum()"
   ]
  },
  {
   "cell_type": "markdown",
   "id": "62593df9",
   "metadata": {},
   "source": [
    "## Five number summary"
   ]
  },
  {
   "cell_type": "code",
   "execution_count": 22,
   "id": "f5b3feb2",
   "metadata": {},
   "outputs": [
    {
     "data": {
      "text/html": [
       "<div>\n",
       "<style scoped>\n",
       "    .dataframe tbody tr th:only-of-type {\n",
       "        vertical-align: middle;\n",
       "    }\n",
       "\n",
       "    .dataframe tbody tr th {\n",
       "        vertical-align: top;\n",
       "    }\n",
       "\n",
       "    .dataframe thead th {\n",
       "        text-align: right;\n",
       "    }\n",
       "</style>\n",
       "<table border=\"1\" class=\"dataframe\">\n",
       "  <thead>\n",
       "    <tr style=\"text-align: right;\">\n",
       "      <th></th>\n",
       "      <th>carat</th>\n",
       "      <th>depth</th>\n",
       "      <th>table</th>\n",
       "      <th>price</th>\n",
       "      <th>x</th>\n",
       "      <th>y</th>\n",
       "      <th>z</th>\n",
       "    </tr>\n",
       "  </thead>\n",
       "  <tbody>\n",
       "    <tr>\n",
       "      <th>count</th>\n",
       "      <td>53940.000000</td>\n",
       "      <td>53940.000000</td>\n",
       "      <td>53940.000000</td>\n",
       "      <td>53940.000000</td>\n",
       "      <td>53940.000000</td>\n",
       "      <td>53940.000000</td>\n",
       "      <td>53940.000000</td>\n",
       "    </tr>\n",
       "    <tr>\n",
       "      <th>mean</th>\n",
       "      <td>0.797940</td>\n",
       "      <td>61.749405</td>\n",
       "      <td>57.457184</td>\n",
       "      <td>3932.799722</td>\n",
       "      <td>5.731157</td>\n",
       "      <td>5.734526</td>\n",
       "      <td>3.538734</td>\n",
       "    </tr>\n",
       "    <tr>\n",
       "      <th>std</th>\n",
       "      <td>0.474011</td>\n",
       "      <td>1.432621</td>\n",
       "      <td>2.234491</td>\n",
       "      <td>3989.439738</td>\n",
       "      <td>1.121761</td>\n",
       "      <td>1.142135</td>\n",
       "      <td>0.705699</td>\n",
       "    </tr>\n",
       "    <tr>\n",
       "      <th>min</th>\n",
       "      <td>0.200000</td>\n",
       "      <td>43.000000</td>\n",
       "      <td>43.000000</td>\n",
       "      <td>326.000000</td>\n",
       "      <td>0.000000</td>\n",
       "      <td>0.000000</td>\n",
       "      <td>0.000000</td>\n",
       "    </tr>\n",
       "    <tr>\n",
       "      <th>25%</th>\n",
       "      <td>0.400000</td>\n",
       "      <td>61.000000</td>\n",
       "      <td>56.000000</td>\n",
       "      <td>950.000000</td>\n",
       "      <td>4.710000</td>\n",
       "      <td>4.720000</td>\n",
       "      <td>2.910000</td>\n",
       "    </tr>\n",
       "    <tr>\n",
       "      <th>50%</th>\n",
       "      <td>0.700000</td>\n",
       "      <td>61.800000</td>\n",
       "      <td>57.000000</td>\n",
       "      <td>2401.000000</td>\n",
       "      <td>5.700000</td>\n",
       "      <td>5.710000</td>\n",
       "      <td>3.530000</td>\n",
       "    </tr>\n",
       "    <tr>\n",
       "      <th>75%</th>\n",
       "      <td>1.040000</td>\n",
       "      <td>62.500000</td>\n",
       "      <td>59.000000</td>\n",
       "      <td>5324.250000</td>\n",
       "      <td>6.540000</td>\n",
       "      <td>6.540000</td>\n",
       "      <td>4.040000</td>\n",
       "    </tr>\n",
       "    <tr>\n",
       "      <th>max</th>\n",
       "      <td>5.010000</td>\n",
       "      <td>79.000000</td>\n",
       "      <td>95.000000</td>\n",
       "      <td>18823.000000</td>\n",
       "      <td>10.740000</td>\n",
       "      <td>58.900000</td>\n",
       "      <td>31.800000</td>\n",
       "    </tr>\n",
       "  </tbody>\n",
       "</table>\n",
       "</div>"
      ],
      "text/plain": [
       "              carat         depth         table         price             x  \\\n",
       "count  53940.000000  53940.000000  53940.000000  53940.000000  53940.000000   \n",
       "mean       0.797940     61.749405     57.457184   3932.799722      5.731157   \n",
       "std        0.474011      1.432621      2.234491   3989.439738      1.121761   \n",
       "min        0.200000     43.000000     43.000000    326.000000      0.000000   \n",
       "25%        0.400000     61.000000     56.000000    950.000000      4.710000   \n",
       "50%        0.700000     61.800000     57.000000   2401.000000      5.700000   \n",
       "75%        1.040000     62.500000     59.000000   5324.250000      6.540000   \n",
       "max        5.010000     79.000000     95.000000  18823.000000     10.740000   \n",
       "\n",
       "                  y             z  \n",
       "count  53940.000000  53940.000000  \n",
       "mean       5.734526      3.538734  \n",
       "std        1.142135      0.705699  \n",
       "min        0.000000      0.000000  \n",
       "25%        4.720000      2.910000  \n",
       "50%        5.710000      3.530000  \n",
       "75%        6.540000      4.040000  \n",
       "max       58.900000     31.800000  "
      ]
     },
     "execution_count": 22,
     "metadata": {},
     "output_type": "execute_result"
    }
   ],
   "source": [
    "diamond.describe()"
   ]
  },
  {
   "cell_type": "markdown",
   "id": "ea16692a",
   "metadata": {},
   "source": [
    "# Explain the number summary!"
   ]
  },
  {
   "cell_type": "markdown",
   "id": "a44b1d05",
   "metadata": {},
   "source": [
    "2. The color variable refers to the colour of the diamond, with categories from “D” to “J”. Colourless diamonds are considered better than diamonds with a yellow tint. Diamonds from “D” to “F” are considered colourless, and diamonds from colour “G” to “J” are not considered colourless (that is, they have a very faint colour).\n",
    "3. Create a new binary variable in the dataframe called “colourless” which records 1 in rows with colourless diamonds and 0 otherwise."
   ]
  },
  {
   "cell_type": "code",
   "execution_count": 23,
   "id": "e76e5176",
   "metadata": {},
   "outputs": [],
   "source": [
    "dia = diamond"
   ]
  },
  {
   "cell_type": "code",
   "execution_count": 24,
   "id": "4ba53ee5",
   "metadata": {},
   "outputs": [
    {
     "data": {
      "text/plain": [
       "<bound method ExtensionArray.tolist of ['E', 'I', 'J', 'H', 'F', 'G', 'D']\n",
       "Categories (7, object): ['D', 'E', 'F', 'G', 'H', 'I', 'J']>"
      ]
     },
     "execution_count": 24,
     "metadata": {},
     "output_type": "execute_result"
    }
   ],
   "source": [
    "dia['color'].unique().tolist"
   ]
  },
  {
   "cell_type": "code",
   "execution_count": 25,
   "id": "8251ec69",
   "metadata": {},
   "outputs": [],
   "source": [
    "colourless= ['D', 'E', 'F']"
   ]
  },
  {
   "cell_type": "code",
   "execution_count": 26,
   "id": "132e2b51",
   "metadata": {},
   "outputs": [],
   "source": [
    "taint= ['G', 'H', 'I', 'J']"
   ]
  },
  {
   "cell_type": "code",
   "execution_count": 27,
   "id": "fde87e16",
   "metadata": {},
   "outputs": [],
   "source": [
    "def get_color(x):\n",
    "    if (x in colourless):\n",
    "        return 1\n",
    "    else:\n",
    "        return 0"
   ]
  },
  {
   "cell_type": "code",
   "execution_count": 28,
   "id": "f5f460e5",
   "metadata": {},
   "outputs": [],
   "source": [
    "dia['colourless']= dia['color'].apply(get_color)"
   ]
  },
  {
   "cell_type": "code",
   "execution_count": 29,
   "id": "f15b12b6",
   "metadata": {},
   "outputs": [
    {
     "data": {
      "text/html": [
       "<div>\n",
       "<style scoped>\n",
       "    .dataframe tbody tr th:only-of-type {\n",
       "        vertical-align: middle;\n",
       "    }\n",
       "\n",
       "    .dataframe tbody tr th {\n",
       "        vertical-align: top;\n",
       "    }\n",
       "\n",
       "    .dataframe thead th {\n",
       "        text-align: right;\n",
       "    }\n",
       "</style>\n",
       "<table border=\"1\" class=\"dataframe\">\n",
       "  <thead>\n",
       "    <tr style=\"text-align: right;\">\n",
       "      <th></th>\n",
       "      <th>carat</th>\n",
       "      <th>cut</th>\n",
       "      <th>color</th>\n",
       "      <th>clarity</th>\n",
       "      <th>depth</th>\n",
       "      <th>table</th>\n",
       "      <th>price</th>\n",
       "      <th>x</th>\n",
       "      <th>y</th>\n",
       "      <th>z</th>\n",
       "      <th>colourless</th>\n",
       "    </tr>\n",
       "  </thead>\n",
       "  <tbody>\n",
       "    <tr>\n",
       "      <th>0</th>\n",
       "      <td>0.23</td>\n",
       "      <td>Ideal</td>\n",
       "      <td>E</td>\n",
       "      <td>SI2</td>\n",
       "      <td>61.5</td>\n",
       "      <td>55.0</td>\n",
       "      <td>326</td>\n",
       "      <td>3.95</td>\n",
       "      <td>3.98</td>\n",
       "      <td>2.43</td>\n",
       "      <td>1</td>\n",
       "    </tr>\n",
       "    <tr>\n",
       "      <th>1</th>\n",
       "      <td>0.21</td>\n",
       "      <td>Premium</td>\n",
       "      <td>E</td>\n",
       "      <td>SI1</td>\n",
       "      <td>59.8</td>\n",
       "      <td>61.0</td>\n",
       "      <td>326</td>\n",
       "      <td>3.89</td>\n",
       "      <td>3.84</td>\n",
       "      <td>2.31</td>\n",
       "      <td>1</td>\n",
       "    </tr>\n",
       "    <tr>\n",
       "      <th>2</th>\n",
       "      <td>0.23</td>\n",
       "      <td>Good</td>\n",
       "      <td>E</td>\n",
       "      <td>VS1</td>\n",
       "      <td>56.9</td>\n",
       "      <td>65.0</td>\n",
       "      <td>327</td>\n",
       "      <td>4.05</td>\n",
       "      <td>4.07</td>\n",
       "      <td>2.31</td>\n",
       "      <td>1</td>\n",
       "    </tr>\n",
       "    <tr>\n",
       "      <th>3</th>\n",
       "      <td>0.29</td>\n",
       "      <td>Premium</td>\n",
       "      <td>I</td>\n",
       "      <td>VS2</td>\n",
       "      <td>62.4</td>\n",
       "      <td>58.0</td>\n",
       "      <td>334</td>\n",
       "      <td>4.20</td>\n",
       "      <td>4.23</td>\n",
       "      <td>2.63</td>\n",
       "      <td>0</td>\n",
       "    </tr>\n",
       "    <tr>\n",
       "      <th>4</th>\n",
       "      <td>0.31</td>\n",
       "      <td>Good</td>\n",
       "      <td>J</td>\n",
       "      <td>SI2</td>\n",
       "      <td>63.3</td>\n",
       "      <td>58.0</td>\n",
       "      <td>335</td>\n",
       "      <td>4.34</td>\n",
       "      <td>4.35</td>\n",
       "      <td>2.75</td>\n",
       "      <td>0</td>\n",
       "    </tr>\n",
       "  </tbody>\n",
       "</table>\n",
       "</div>"
      ],
      "text/plain": [
       "   carat      cut color clarity  depth  table  price     x     y     z  \\\n",
       "0   0.23    Ideal     E     SI2   61.5   55.0    326  3.95  3.98  2.43   \n",
       "1   0.21  Premium     E     SI1   59.8   61.0    326  3.89  3.84  2.31   \n",
       "2   0.23     Good     E     VS1   56.9   65.0    327  4.05  4.07  2.31   \n",
       "3   0.29  Premium     I     VS2   62.4   58.0    334  4.20  4.23  2.63   \n",
       "4   0.31     Good     J     SI2   63.3   58.0    335  4.34  4.35  2.75   \n",
       "\n",
       "   colourless  \n",
       "0           1  \n",
       "1           1  \n",
       "2           1  \n",
       "3           0  \n",
       "4           0  "
      ]
     },
     "execution_count": 29,
     "metadata": {},
     "output_type": "execute_result"
    }
   ],
   "source": [
    "dia.head()"
   ]
  },
  {
   "cell_type": "code",
   "execution_count": 30,
   "id": "bc585216",
   "metadata": {},
   "outputs": [
    {
     "data": {
      "text/plain": [
       "array([1, 0], dtype=int64)"
      ]
     },
     "execution_count": 30,
     "metadata": {},
     "output_type": "execute_result"
    }
   ],
   "source": [
    "dia['colourless'].unique()"
   ]
  },
  {
   "cell_type": "markdown",
   "id": "6c318f16",
   "metadata": {},
   "source": [
    "4. Perform an appropriate hypothesis test to determine whether there is any association between the clarity of a diamond and whether it is colourless or not. Use a significance level of alpha = 0.01.\n",
    "5. Produce and comment on an appropriate plot to illustrate your findings. \n",
    "6. Find and interpret 90% confidence intervals for both the mean price of colourless diamonds and the mean price of non-colourless diamonds."
   ]
  },
  {
   "cell_type": "code",
   "execution_count": 31,
   "id": "4a6ae865",
   "metadata": {},
   "outputs": [
    {
     "data": {
      "text/plain": [
       "['SI2', 'SI1', 'VS1', 'VS2', 'VVS2', 'VVS1', 'I1', 'IF']\n",
       "Categories (8, object): ['IF', 'VVS1', 'VVS2', 'VS1', 'VS2', 'SI1', 'SI2', 'I1']"
      ]
     },
     "execution_count": 31,
     "metadata": {},
     "output_type": "execute_result"
    }
   ],
   "source": [
    "dia['clarity'].unique()"
   ]
  },
  {
   "attachments": {
    "image.png": {
     "image/png": "[encoded data removed]"
    }
   },
   "cell_type": "markdown",
   "id": "25616fab",
   "metadata": {},
   "source": [
    "## Understanding question 2.\n",
    "#### Question:\n",
    "4. Perform an appropriate hypothesis test to determine whether there is any association between the clarity of a diamond and whether it is colourless or not. Use a significance level of alpha = 0.01.\n",
    "##### Personal interpretation:\n",
    "The question is asking us to perform a hypothesis testing on 2 variables, that in our diamond dataset happens to be categorical. \n",
    "***Categorical variables:*** They are variables that categories observations into diffrent categories/group/class. \n",
    "In the question there are two categories in veiw;\n",
    "1. Clarity: The clarity column is a categorical varible that groups diamonds into diffrent categories presumably by their properties. A little exploration of the clarity variable using 'unique()' return that there are 8 uniqe categories in it namely ['SI2', 'SI1', 'VS1', 'VS2', 'VVS2', 'VVS1', 'I1', 'IF']. \n",
    "2. Colourless: The colourless column was enginereed in question 2.c. It has 2 categories in it. Category 1 are those diamonds that are colourless, and category 0 are those diamods that have some colour. \n",
    "\n",
    "Bringing it all together, question 4 wants us to perform an hypothesis to check if there is any relationship or corrolation between the clarity of a diamond, anfd weather it is going to be colourless or colourful. \n",
    "\n",
    "##### Approach\n",
    "To do this we would be using the 'Chi-Square-Test of independence'. According to (Zach, 2020), the 'Chi-Square-Test of independence' is an omnibus test used to determine whether or not there is a significant association between two categorical variables.\n",
    "\n",
    "#### methodology\n",
    "Th Normal hypothesis testing steps is would be used:\n",
    "#### Define hypothesis\n",
    "1. Null-Hypothesis (H0): Clarity and colorless variables are independent. There is no association between them. \n",
    "2. Alternate-HYpothesis(Ha): Clarity and colorless variables are not independent. There is association between them. \n",
    "#### Formular\n",
    "![image.png](attachment:image.png)\n",
    "\n",
    "***Expected value = (row sum * column sum) / table sum.***\n"
   ]
  },
  {
   "cell_type": "code",
   "execution_count": 32,
   "id": "842bc36b",
   "metadata": {},
   "outputs": [
    {
     "name": "stdout",
     "output_type": "stream",
     "text": [
      "<class 'pandas.core.frame.DataFrame'>\n",
      "RangeIndex: 53940 entries, 0 to 53939\n",
      "Data columns (total 11 columns):\n",
      " #   Column      Non-Null Count  Dtype   \n",
      "---  ------      --------------  -----   \n",
      " 0   carat       53940 non-null  float64 \n",
      " 1   cut         53940 non-null  category\n",
      " 2   color       53940 non-null  category\n",
      " 3   clarity     53940 non-null  category\n",
      " 4   depth       53940 non-null  float64 \n",
      " 5   table       53940 non-null  float64 \n",
      " 6   price       53940 non-null  int64   \n",
      " 7   x           53940 non-null  float64 \n",
      " 8   y           53940 non-null  float64 \n",
      " 9   z           53940 non-null  float64 \n",
      " 10  colourless  53940 non-null  int64   \n",
      "dtypes: category(3), float64(6), int64(2)\n",
      "memory usage: 3.4 MB\n"
     ]
    }
   ],
   "source": [
    "dia.info()"
   ]
  },
  {
   "cell_type": "code",
   "execution_count": 33,
   "id": "d8c99105",
   "metadata": {},
   "outputs": [],
   "source": [
    "dia['colourless']= dia['colourless'].astype('category')"
   ]
  },
  {
   "cell_type": "code",
   "execution_count": 34,
   "id": "a3b8d3f7",
   "metadata": {},
   "outputs": [
    {
     "name": "stdout",
     "output_type": "stream",
     "text": [
      "<class 'pandas.core.frame.DataFrame'>\n",
      "RangeIndex: 53940 entries, 0 to 53939\n",
      "Data columns (total 11 columns):\n",
      " #   Column      Non-Null Count  Dtype   \n",
      "---  ------      --------------  -----   \n",
      " 0   carat       53940 non-null  float64 \n",
      " 1   cut         53940 non-null  category\n",
      " 2   color       53940 non-null  category\n",
      " 3   clarity     53940 non-null  category\n",
      " 4   depth       53940 non-null  float64 \n",
      " 5   table       53940 non-null  float64 \n",
      " 6   price       53940 non-null  int64   \n",
      " 7   x           53940 non-null  float64 \n",
      " 8   y           53940 non-null  float64 \n",
      " 9   z           53940 non-null  float64 \n",
      " 10  colourless  53940 non-null  category\n",
      "dtypes: category(4), float64(6), int64(1)\n",
      "memory usage: 3.1 MB\n"
     ]
    }
   ],
   "source": [
    "dia.info()"
   ]
  },
  {
   "cell_type": "markdown",
   "id": "41a5b406",
   "metadata": {},
   "source": [
    "## Univarate analysis "
   ]
  },
  {
   "cell_type": "code",
   "execution_count": 35,
   "id": "45aae6c5",
   "metadata": {},
   "outputs": [
    {
     "name": "stdout",
     "output_type": "stream",
     "text": [
      "Requirement already satisfied: researchpy in c:\\users\\timay\\anaconda3\\lib\\site-packages (0.3.5)\n",
      "Requirement already satisfied: scipy in c:\\users\\timay\\anaconda3\\lib\\site-packages (from researchpy) (1.10.1)\n",
      "Requirement already satisfied: numpy in c:\\users\\timay\\anaconda3\\lib\\site-packages (from researchpy) (1.24.3)\n",
      "Requirement already satisfied: pandas in c:\\users\\timay\\anaconda3\\lib\\site-packages (from researchpy) (1.5.3)\n",
      "Requirement already satisfied: statsmodels in c:\\users\\timay\\anaconda3\\lib\\site-packages (from researchpy) (0.14.0)\n",
      "Requirement already satisfied: patsy in c:\\users\\timay\\anaconda3\\lib\\site-packages (from researchpy) (0.5.3)\n",
      "Requirement already satisfied: python-dateutil>=2.8.1 in c:\\users\\timay\\anaconda3\\lib\\site-packages (from pandas->researchpy) (2.8.2)\n",
      "Requirement already satisfied: pytz>=2020.1 in c:\\users\\timay\\anaconda3\\lib\\site-packages (from pandas->researchpy) (2022.7)\n",
      "Requirement already satisfied: six in c:\\users\\timay\\anaconda3\\lib\\site-packages (from patsy->researchpy) (1.16.0)\n",
      "Requirement already satisfied: packaging>=21.3 in c:\\users\\timay\\anaconda3\\lib\\site-packages (from statsmodels->researchpy) (23.0)\n",
      "Note: you may need to restart the kernel to use updated packages.\n"
     ]
    }
   ],
   "source": [
    "pip install researchpy"
   ]
  },
  {
   "cell_type": "code",
   "execution_count": 36,
   "id": "d77a77c1",
   "metadata": {},
   "outputs": [
    {
     "name": "stderr",
     "output_type": "stream",
     "text": [
      "C:\\Users\\timay\\anaconda3\\Lib\\site-packages\\researchpy\\summary.py:225: FutureWarning: iteritems is deprecated and will be removed in a future version. Use .items instead.\n",
      "  for ix, df_col in group1.iteritems():\n"
     ]
    },
    {
     "data": {
      "text/html": [
       "<div>\n",
       "<style scoped>\n",
       "    .dataframe tbody tr th:only-of-type {\n",
       "        vertical-align: middle;\n",
       "    }\n",
       "\n",
       "    .dataframe tbody tr th {\n",
       "        vertical-align: top;\n",
       "    }\n",
       "\n",
       "    .dataframe thead th {\n",
       "        text-align: right;\n",
       "    }\n",
       "</style>\n",
       "<table border=\"1\" class=\"dataframe\">\n",
       "  <thead>\n",
       "    <tr style=\"text-align: right;\">\n",
       "      <th></th>\n",
       "      <th>Variable</th>\n",
       "      <th>Outcome</th>\n",
       "      <th>Count</th>\n",
       "      <th>Percent</th>\n",
       "    </tr>\n",
       "  </thead>\n",
       "  <tbody>\n",
       "    <tr>\n",
       "      <th>0</th>\n",
       "      <td>clarity</td>\n",
       "      <td>SI1</td>\n",
       "      <td>13065</td>\n",
       "      <td>24.22</td>\n",
       "    </tr>\n",
       "    <tr>\n",
       "      <th>1</th>\n",
       "      <td></td>\n",
       "      <td>VS2</td>\n",
       "      <td>12258</td>\n",
       "      <td>22.73</td>\n",
       "    </tr>\n",
       "    <tr>\n",
       "      <th>2</th>\n",
       "      <td></td>\n",
       "      <td>SI2</td>\n",
       "      <td>9194</td>\n",
       "      <td>17.04</td>\n",
       "    </tr>\n",
       "    <tr>\n",
       "      <th>3</th>\n",
       "      <td></td>\n",
       "      <td>VS1</td>\n",
       "      <td>8171</td>\n",
       "      <td>15.15</td>\n",
       "    </tr>\n",
       "    <tr>\n",
       "      <th>4</th>\n",
       "      <td></td>\n",
       "      <td>VVS2</td>\n",
       "      <td>5066</td>\n",
       "      <td>9.39</td>\n",
       "    </tr>\n",
       "    <tr>\n",
       "      <th>5</th>\n",
       "      <td></td>\n",
       "      <td>VVS1</td>\n",
       "      <td>3655</td>\n",
       "      <td>6.78</td>\n",
       "    </tr>\n",
       "    <tr>\n",
       "      <th>6</th>\n",
       "      <td></td>\n",
       "      <td>IF</td>\n",
       "      <td>1790</td>\n",
       "      <td>3.32</td>\n",
       "    </tr>\n",
       "    <tr>\n",
       "      <th>7</th>\n",
       "      <td></td>\n",
       "      <td>I1</td>\n",
       "      <td>741</td>\n",
       "      <td>1.37</td>\n",
       "    </tr>\n",
       "    <tr>\n",
       "      <th>8</th>\n",
       "      <td>colourless</td>\n",
       "      <td>0</td>\n",
       "      <td>27826</td>\n",
       "      <td>51.59</td>\n",
       "    </tr>\n",
       "    <tr>\n",
       "      <th>9</th>\n",
       "      <td></td>\n",
       "      <td>1</td>\n",
       "      <td>26114</td>\n",
       "      <td>48.41</td>\n",
       "    </tr>\n",
       "  </tbody>\n",
       "</table>\n",
       "</div>"
      ],
      "text/plain": [
       "     Variable Outcome  Count  Percent\n",
       "0     clarity     SI1  13065    24.22\n",
       "1                 VS2  12258    22.73\n",
       "2                 SI2   9194    17.04\n",
       "3                 VS1   8171    15.15\n",
       "4                VVS2   5066     9.39\n",
       "5                VVS1   3655     6.78\n",
       "6                  IF   1790     3.32\n",
       "7                  I1    741     1.37\n",
       "8  colourless       0  27826    51.59\n",
       "9                   1  26114    48.41"
      ]
     },
     "execution_count": 36,
     "metadata": {},
     "output_type": "execute_result"
    }
   ],
   "source": [
    "import researchpy as rp\n",
    "rp.summary_cat(dia[[\"clarity\", \"colourless\"]])"
   ]
  },
  {
   "cell_type": "markdown",
   "id": "24676bc2",
   "metadata": {},
   "source": [
    "### Explain the frequency of this clarity and colourless variables and why its important to chect this first. Ref \n",
    "https://www.pythonfordatascience.org/chi-square-test-of-independence-python/#:~:text=Chi%2Dsquare%20test%20of%20independence%20with%20Scipy.&text=The%20method%20that%20needs%20to,can%20be%20accomplished%20using%20pandas."
   ]
  },
  {
   "cell_type": "markdown",
   "id": "058e6317",
   "metadata": {},
   "source": [
    "## Creating Contigency table\n",
    "https://www.pythonfordatascience.org/chi-square-test-of-independence-python/#:~:text=Chi%2Dsquare%20test%20of%20independence%20with%20Scipy.&text=The%20method%20that%20needs%20to,can%20be%20accomplished%20using%20pandas"
   ]
  },
  {
   "cell_type": "code",
   "execution_count": 37,
   "id": "88eb1c4a",
   "metadata": {},
   "outputs": [
    {
     "data": {
      "text/html": [
       "<div>\n",
       "<style scoped>\n",
       "    .dataframe tbody tr th:only-of-type {\n",
       "        vertical-align: middle;\n",
       "    }\n",
       "\n",
       "    .dataframe tbody tr th {\n",
       "        vertical-align: top;\n",
       "    }\n",
       "\n",
       "    .dataframe thead th {\n",
       "        text-align: right;\n",
       "    }\n",
       "</style>\n",
       "<table border=\"1\" class=\"dataframe\">\n",
       "  <thead>\n",
       "    <tr style=\"text-align: right;\">\n",
       "      <th>colourless</th>\n",
       "      <th>0</th>\n",
       "      <th>1</th>\n",
       "    </tr>\n",
       "    <tr>\n",
       "      <th>clarity</th>\n",
       "      <th></th>\n",
       "      <th></th>\n",
       "    </tr>\n",
       "  </thead>\n",
       "  <tbody>\n",
       "    <tr>\n",
       "      <th>IF</th>\n",
       "      <td>1174</td>\n",
       "      <td>616</td>\n",
       "    </tr>\n",
       "    <tr>\n",
       "      <th>VVS1</th>\n",
       "      <td>2013</td>\n",
       "      <td>1642</td>\n",
       "    </tr>\n",
       "    <tr>\n",
       "      <th>VVS2</th>\n",
       "      <td>2547</td>\n",
       "      <td>2519</td>\n",
       "    </tr>\n",
       "    <tr>\n",
       "      <th>VS1</th>\n",
       "      <td>4821</td>\n",
       "      <td>3350</td>\n",
       "    </tr>\n",
       "    <tr>\n",
       "      <th>VS2</th>\n",
       "      <td>5890</td>\n",
       "      <td>6368</td>\n",
       "    </tr>\n",
       "    <tr>\n",
       "      <th>SI1</th>\n",
       "      <td>6425</td>\n",
       "      <td>6640</td>\n",
       "    </tr>\n",
       "    <tr>\n",
       "      <th>SI2</th>\n",
       "      <td>4502</td>\n",
       "      <td>4692</td>\n",
       "    </tr>\n",
       "    <tr>\n",
       "      <th>I1</th>\n",
       "      <td>454</td>\n",
       "      <td>287</td>\n",
       "    </tr>\n",
       "  </tbody>\n",
       "</table>\n",
       "</div>"
      ],
      "text/plain": [
       "colourless     0     1\n",
       "clarity               \n",
       "IF          1174   616\n",
       "VVS1        2013  1642\n",
       "VVS2        2547  2519\n",
       "VS1         4821  3350\n",
       "VS2         5890  6368\n",
       "SI1         6425  6640\n",
       "SI2         4502  4692\n",
       "I1           454   287"
      ]
     },
     "execution_count": 37,
     "metadata": {},
     "output_type": "execute_result"
    }
   ],
   "source": [
    "C_t = pd.crosstab(dia[\"clarity\"], dia[\"colourless\"])\n",
    "C_t"
   ]
  },
  {
   "cell_type": "markdown",
   "id": "1a387356",
   "metadata": {},
   "source": [
    "## Explain the importance of each "
   ]
  },
  {
   "cell_type": "markdown",
   "id": "2e04b3a0",
   "metadata": {},
   "source": [
    "## Perform Chi - test"
   ]
  },
  {
   "cell_type": "code",
   "execution_count": 38,
   "id": "5079a076",
   "metadata": {},
   "outputs": [
    {
     "data": {
      "text/plain": [
       "Chi2ContingencyResult(statistic=486.4730594148522, pvalue=6.4815871244549e-101, dof=7, expected_freq=array([[ 923.40637746,  866.59362254],\n",
       "       [1885.50296626, 1769.49703374],\n",
       "       [2613.39480905, 2452.60519095],\n",
       "       [4215.16955877, 3955.83044123],\n",
       "       [6323.52814238, 5934.47185762],\n",
       "       [6739.83481646, 6325.16518354],\n",
       "       [4742.90404153, 4451.09595847],\n",
       "       [ 382.2592881 ,  358.7407119 ]]))"
      ]
     },
     "execution_count": 38,
     "metadata": {},
     "output_type": "execute_result"
    }
   ],
   "source": [
    "stats.chi2_contingency(C_t)"
   ]
  },
  {
   "cell_type": "markdown",
   "id": "c4bbd159",
   "metadata": {},
   "source": [
    "# Compared result with chi journal ref!"
   ]
  },
  {
   "cell_type": "code",
   "execution_count": 39,
   "id": "e0fa956e",
   "metadata": {},
   "outputs": [
    {
     "name": "stdout",
     "output_type": "stream",
     "text": [
      "There is significant evidence to reject the null hypothesis.\n",
      "There might be an association between clarity and colorlessness.\n"
     ]
    }
   ],
   "source": [
    "import pandas as pd\n",
    "from scipy.stats import chi2_contingency\n",
    "\n",
    "# Load the diamonds dataset (e.g., using seaborn)\n",
    "import seaborn as sns\n",
    "diamonds = sns.load_dataset('diamonds')\n",
    "\n",
    "# Create a contingency table of clarity and colorless/not colorless\n",
    "contingency_table = pd.crosstab(diamonds['clarity'], diamonds['color'], margins=True)\n",
    "\n",
    "# Perform the chi-square test for independence\n",
    "chi2, p, dof, expected = chi2_contingency(contingency_table)\n",
    "\n",
    "# Compare p-value with significance level\n",
    "alpha = 0.01\n",
    "if p < alpha:\n",
    "    print(\"There is significant evidence to reject the null hypothesis.\")\n",
    "    print(\"There might be an association between clarity and colorlessness.\")\n",
    "else:\n",
    "    print(\"There is not enough evidence to reject the null hypothesis.\")\n",
    "    print(\"There might not be a significant association between clarity and colorlessness.\")"
   ]
  },
  {
   "cell_type": "code",
   "execution_count": null,
   "id": "56bdc4bc",
   "metadata": {},
   "outputs": [],
   "source": []
  },
  {
   "cell_type": "code",
   "execution_count": null,
   "id": "99d9bc8a",
   "metadata": {},
   "outputs": [],
   "source": []
  },
  {
   "cell_type": "code",
   "execution_count": null,
   "id": "5a9be2f3",
   "metadata": {},
   "outputs": [],
   "source": []
  },
  {
   "cell_type": "code",
   "execution_count": null,
   "id": "945afed5",
   "metadata": {},
   "outputs": [],
   "source": []
  }
 ],
 "metadata": {
  "kernelspec": {
   "display_name": "Python 3 (ipykernel)",
   "language": "python",
   "name": "python3"
  },
  "language_info": {
   "codemirror_mode": {
    "name": "ipython",
    "version": 3
   },
   "file_extension": ".py",
   "mimetype": "text/x-python",
   "name": "python",
   "nbconvert_exporter": "python",
   "pygments_lexer": "ipython3",
   "version": "3.11.4"
  }
 },
 "nbformat": 4,
 "nbformat_minor": 5
}

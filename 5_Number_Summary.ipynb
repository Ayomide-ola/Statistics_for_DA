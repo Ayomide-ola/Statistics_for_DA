{
 "cells": [
  {
   "cell_type": "markdown",
   "id": "d904b7c2",
   "metadata": {},
   "source": [
    "## 5 Number Summary \n",
    "\n",
    "### Step 1: \n",
    "\n",
    "#### Import Libraries\n",
    "\n",
    "In order for us to work with any code that is not inherent to the language we will be required to import the corresponding libraries."
   ]
  },
  {
   "cell_type": "code",
   "execution_count": 1,
   "id": "1c0a6d69",
   "metadata": {},
   "outputs": [],
   "source": [
    "#Importing libraries \n",
    "#read data library\n",
    "import pandas as pd\n",
    "import numpy as np\n",
    "import statistics as stats\n",
    "import matplotlib.pyplot as plt\n",
    "import seaborn as sns"
   ]
  },
  {
   "cell_type": "markdown",
   "id": "c9ba7e2f",
   "metadata": {},
   "source": [
    "### Initial Observation\n",
    "\n",
    "Observe the first 5 records of the data as well as their data types to make sure everything is aligned, before we proceed to the operations."
   ]
  },
  {
   "cell_type": "code",
   "execution_count": 2,
   "id": "46acc7b5",
   "metadata": {},
   "outputs": [],
   "source": [
    "# Read in the datset\n",
    "#Initialise a variable to assign the dataset to..\n",
    "# to access a function in the library we need to \n",
    "# call the library 'pd' and use the . operator \n",
    "# this will give tou access to methods in the package\n",
    "# after the . operator we call the function name\n",
    "dataset = pd.read_csv('50_Startups.csv')\n",
    "# dataset is now going to contain what is on the right side of \n",
    "# the = sign"
   ]
  },
  {
   "cell_type": "code",
   "execution_count": 3,
   "id": "112f880a",
   "metadata": {},
   "outputs": [
    {
     "data": {
      "text/html": [
       "<div>\n",
       "<style scoped>\n",
       "    .dataframe tbody tr th:only-of-type {\n",
       "        vertical-align: middle;\n",
       "    }\n",
       "\n",
       "    .dataframe tbody tr th {\n",
       "        vertical-align: top;\n",
       "    }\n",
       "\n",
       "    .dataframe thead th {\n",
       "        text-align: right;\n",
       "    }\n",
       "</style>\n",
       "<table border=\"1\" class=\"dataframe\">\n",
       "  <thead>\n",
       "    <tr style=\"text-align: right;\">\n",
       "      <th></th>\n",
       "      <th>R&amp;D Spend</th>\n",
       "      <th>Administration</th>\n",
       "      <th>Marketing Spend</th>\n",
       "      <th>State</th>\n",
       "      <th>Profit</th>\n",
       "    </tr>\n",
       "  </thead>\n",
       "  <tbody>\n",
       "    <tr>\n",
       "      <th>0</th>\n",
       "      <td>165349.20</td>\n",
       "      <td>136897.80</td>\n",
       "      <td>471784.10</td>\n",
       "      <td>New York</td>\n",
       "      <td>192261.83</td>\n",
       "    </tr>\n",
       "    <tr>\n",
       "      <th>1</th>\n",
       "      <td>162597.70</td>\n",
       "      <td>151377.59</td>\n",
       "      <td>443898.53</td>\n",
       "      <td>California</td>\n",
       "      <td>191792.06</td>\n",
       "    </tr>\n",
       "    <tr>\n",
       "      <th>2</th>\n",
       "      <td>153441.51</td>\n",
       "      <td>101145.55</td>\n",
       "      <td>407934.54</td>\n",
       "      <td>Florida</td>\n",
       "      <td>191050.39</td>\n",
       "    </tr>\n",
       "    <tr>\n",
       "      <th>3</th>\n",
       "      <td>144372.41</td>\n",
       "      <td>118671.85</td>\n",
       "      <td>383199.62</td>\n",
       "      <td>New York</td>\n",
       "      <td>182901.99</td>\n",
       "    </tr>\n",
       "    <tr>\n",
       "      <th>4</th>\n",
       "      <td>142107.34</td>\n",
       "      <td>91391.77</td>\n",
       "      <td>366168.42</td>\n",
       "      <td>Florida</td>\n",
       "      <td>166187.94</td>\n",
       "    </tr>\n",
       "  </tbody>\n",
       "</table>\n",
       "</div>"
      ],
      "text/plain": [
       "   R&D Spend  Administration  Marketing Spend       State     Profit\n",
       "0  165349.20       136897.80        471784.10    New York  192261.83\n",
       "1  162597.70       151377.59        443898.53  California  191792.06\n",
       "2  153441.51       101145.55        407934.54     Florida  191050.39\n",
       "3  144372.41       118671.85        383199.62    New York  182901.99\n",
       "4  142107.34        91391.77        366168.42     Florida  166187.94"
      ]
     },
     "execution_count": 3,
     "metadata": {},
     "output_type": "execute_result"
    }
   ],
   "source": [
    "# Observe the first 5 records of the datset\n",
    "# this is to ensure that the datset has been read\n",
    "# correctly using the .head() method\n",
    "dataset.head()"
   ]
  },
  {
   "cell_type": "markdown",
   "id": "ddf8daa5",
   "metadata": {},
   "source": [
    "##### Terminating Floats\n",
    "Decimal place integers that have leading zeros\n",
    "65.25000 => 65.25\n",
    "\n",
    "\n",
    "##### Non-terminating floats\n",
    "Decimal place integers that do not have leading zeros, the number of value preceeding the decimal place are recursive.\n",
    "65.982649756248957239865\n",
    "\n",
    "\n",
    "###### Nonteminating - 32 bits\n",
    "32 bit values can only contain 32 bits of information thus losing some numerical precision\n",
    "65.397562498562498 // cut off for 32 bits\n",
    "64 bits \n",
    "65.397562498562498**47296534986**"
   ]
  },
  {
   "cell_type": "code",
   "execution_count": 4,
   "id": "2945a1d6",
   "metadata": {},
   "outputs": [
    {
     "name": "stdout",
     "output_type": "stream",
     "text": [
      "<class 'pandas.core.frame.DataFrame'>\n",
      "RangeIndex: 50 entries, 0 to 49\n",
      "Data columns (total 5 columns):\n",
      " #   Column           Non-Null Count  Dtype  \n",
      "---  ------           --------------  -----  \n",
      " 0   R&D Spend        50 non-null     float64\n",
      " 1   Administration   50 non-null     float64\n",
      " 2   Marketing Spend  50 non-null     float64\n",
      " 3   State            50 non-null     object \n",
      " 4   Profit           50 non-null     float64\n",
      "dtypes: float64(4), object(1)\n",
      "memory usage: 2.1+ KB\n"
     ]
    }
   ],
   "source": [
    "# To identify the data types contained within the dataset\n",
    "# the initial observation of the first 5 records doeas not\n",
    "# verify the data types using the .info() mehtod\n",
    "dataset.info()"
   ]
  },
  {
   "cell_type": "markdown",
   "id": "1f80b3c6",
   "metadata": {},
   "source": [
    "### The Five Number Summary\n",
    "\n",
    "#### Understand the data distribution adn underlying patterns\n",
    "\n",
    "We start by getting all possible statistical operations to run on the data and return a value to give us some insight on the data distribution, this will better equip us with the right guidance to proceed with the operations."
   ]
  },
  {
   "cell_type": "code",
   "execution_count": 5,
   "id": "67bb00a9",
   "metadata": {
    "scrolled": false
   },
   "outputs": [
    {
     "data": {
      "text/html": [
       "<div>\n",
       "<style scoped>\n",
       "    .dataframe tbody tr th:only-of-type {\n",
       "        vertical-align: middle;\n",
       "    }\n",
       "\n",
       "    .dataframe tbody tr th {\n",
       "        vertical-align: top;\n",
       "    }\n",
       "\n",
       "    .dataframe thead th {\n",
       "        text-align: right;\n",
       "    }\n",
       "</style>\n",
       "<table border=\"1\" class=\"dataframe\">\n",
       "  <thead>\n",
       "    <tr style=\"text-align: right;\">\n",
       "      <th></th>\n",
       "      <th>R&amp;D Spend</th>\n",
       "      <th>Administration</th>\n",
       "      <th>Marketing Spend</th>\n",
       "      <th>Profit</th>\n",
       "    </tr>\n",
       "  </thead>\n",
       "  <tbody>\n",
       "    <tr>\n",
       "      <th>count</th>\n",
       "      <td>50.000000</td>\n",
       "      <td>50.000000</td>\n",
       "      <td>50.000000</td>\n",
       "      <td>50.000000</td>\n",
       "    </tr>\n",
       "    <tr>\n",
       "      <th>mean</th>\n",
       "      <td>73721.615600</td>\n",
       "      <td>121344.639600</td>\n",
       "      <td>211025.097800</td>\n",
       "      <td>112012.639200</td>\n",
       "    </tr>\n",
       "    <tr>\n",
       "      <th>std</th>\n",
       "      <td>45902.256482</td>\n",
       "      <td>28017.802755</td>\n",
       "      <td>122290.310726</td>\n",
       "      <td>40306.180338</td>\n",
       "    </tr>\n",
       "    <tr>\n",
       "      <th>min</th>\n",
       "      <td>0.000000</td>\n",
       "      <td>51283.140000</td>\n",
       "      <td>0.000000</td>\n",
       "      <td>14681.400000</td>\n",
       "    </tr>\n",
       "    <tr>\n",
       "      <th>25%</th>\n",
       "      <td>39936.370000</td>\n",
       "      <td>103730.875000</td>\n",
       "      <td>129300.132500</td>\n",
       "      <td>90138.902500</td>\n",
       "    </tr>\n",
       "    <tr>\n",
       "      <th>50%</th>\n",
       "      <td>73051.080000</td>\n",
       "      <td>122699.795000</td>\n",
       "      <td>212716.240000</td>\n",
       "      <td>107978.190000</td>\n",
       "    </tr>\n",
       "    <tr>\n",
       "      <th>75%</th>\n",
       "      <td>101602.800000</td>\n",
       "      <td>144842.180000</td>\n",
       "      <td>299469.085000</td>\n",
       "      <td>139765.977500</td>\n",
       "    </tr>\n",
       "    <tr>\n",
       "      <th>max</th>\n",
       "      <td>165349.200000</td>\n",
       "      <td>182645.560000</td>\n",
       "      <td>471784.100000</td>\n",
       "      <td>192261.830000</td>\n",
       "    </tr>\n",
       "  </tbody>\n",
       "</table>\n",
       "</div>"
      ],
      "text/plain": [
       "           R&D Spend  Administration  Marketing Spend         Profit\n",
       "count      50.000000       50.000000        50.000000      50.000000\n",
       "mean    73721.615600   121344.639600    211025.097800  112012.639200\n",
       "std     45902.256482    28017.802755    122290.310726   40306.180338\n",
       "min         0.000000    51283.140000         0.000000   14681.400000\n",
       "25%     39936.370000   103730.875000    129300.132500   90138.902500\n",
       "50%     73051.080000   122699.795000    212716.240000  107978.190000\n",
       "75%    101602.800000   144842.180000    299469.085000  139765.977500\n",
       "max    165349.200000   182645.560000    471784.100000  192261.830000"
      ]
     },
     "execution_count": 5,
     "metadata": {},
     "output_type": "execute_result"
    }
   ],
   "source": [
    "#The .describe function gives us the summary of numbers of \n",
    "# numeric variables from the dataset, this will\n",
    "# give us some insight on the numeric distribution\n",
    "dataset.describe()"
   ]
  },
  {
   "cell_type": "markdown",
   "id": "335e7b98",
   "metadata": {},
   "source": [
    "### Create Functions\n",
    "\n",
    "##### write functions that give more insight into the dataset using the 5 number summary\n",
    "\n",
    "In order to create functions there is a number off steps that must be followed:\n",
    "\n",
    "##### Step 1: Instantiate a Function\n",
    "To instatiate a function we will need to us the ***\"def\"*** call word, followed by the Function Name and () and :\n",
    "\n",
    "\n",
    "##### Step 2 : Input variables\n",
    "We will need to pass in the dataset variable to operate on the present values, the input can be an array\n",
    "\n",
    "\n",
    "##### Step 3: Create an Instruction Manual (Logic)\n",
    "The set of instrtuctions will define the behaviour of the function and its applicability to a certain data type.\n",
    "\n",
    "\n",
    "##### Step 4: Return the Output to the user\n",
    "\n",
    "Using the retun key word wwe can return the output tohe user\n",
    "\n",
    "\n",
    "## Mean Function"
   ]
  },
  {
   "cell_type": "code",
   "execution_count": 17,
   "id": "eb9eb1bf",
   "metadata": {},
   "outputs": [],
   "source": [
    "def calc_mean(variable):\n",
    "    if len(variable) == 0:\n",
    "        return None\n",
    "    # Make sure the indentations match \n",
    "    # the place of the code in the function\n",
    "    #create a variable called mean to store the mean value\n",
    "    mean = sum(variable) / len(variable)\n",
    "    #Return the ouput to the user\n",
    "    return mean"
   ]
  },
  {
   "cell_type": "code",
   "execution_count": 18,
   "id": "34e54af9",
   "metadata": {},
   "outputs": [
    {
     "data": {
      "text/html": [
       "<div>\n",
       "<style scoped>\n",
       "    .dataframe tbody tr th:only-of-type {\n",
       "        vertical-align: middle;\n",
       "    }\n",
       "\n",
       "    .dataframe tbody tr th {\n",
       "        vertical-align: top;\n",
       "    }\n",
       "\n",
       "    .dataframe thead th {\n",
       "        text-align: right;\n",
       "    }\n",
       "</style>\n",
       "<table border=\"1\" class=\"dataframe\">\n",
       "  <thead>\n",
       "    <tr style=\"text-align: right;\">\n",
       "      <th></th>\n",
       "      <th>R&amp;D Spend</th>\n",
       "      <th>Administration</th>\n",
       "      <th>Marketing Spend</th>\n",
       "      <th>Profit</th>\n",
       "    </tr>\n",
       "  </thead>\n",
       "  <tbody>\n",
       "    <tr>\n",
       "      <th>0</th>\n",
       "      <td>165349.20</td>\n",
       "      <td>136897.80</td>\n",
       "      <td>471784.10</td>\n",
       "      <td>192261.83</td>\n",
       "    </tr>\n",
       "    <tr>\n",
       "      <th>1</th>\n",
       "      <td>162597.70</td>\n",
       "      <td>151377.59</td>\n",
       "      <td>443898.53</td>\n",
       "      <td>191792.06</td>\n",
       "    </tr>\n",
       "    <tr>\n",
       "      <th>2</th>\n",
       "      <td>153441.51</td>\n",
       "      <td>101145.55</td>\n",
       "      <td>407934.54</td>\n",
       "      <td>191050.39</td>\n",
       "    </tr>\n",
       "    <tr>\n",
       "      <th>3</th>\n",
       "      <td>144372.41</td>\n",
       "      <td>118671.85</td>\n",
       "      <td>383199.62</td>\n",
       "      <td>182901.99</td>\n",
       "    </tr>\n",
       "    <tr>\n",
       "      <th>4</th>\n",
       "      <td>142107.34</td>\n",
       "      <td>91391.77</td>\n",
       "      <td>366168.42</td>\n",
       "      <td>166187.94</td>\n",
       "    </tr>\n",
       "  </tbody>\n",
       "</table>\n",
       "</div>"
      ],
      "text/plain": [
       "   R&D Spend  Administration  Marketing Spend     Profit\n",
       "0  165349.20       136897.80        471784.10  192261.83\n",
       "1  162597.70       151377.59        443898.53  191792.06\n",
       "2  153441.51       101145.55        407934.54  191050.39\n",
       "3  144372.41       118671.85        383199.62  182901.99\n",
       "4  142107.34        91391.77        366168.42  166187.94"
      ]
     },
     "execution_count": 18,
     "metadata": {},
     "output_type": "execute_result"
    }
   ],
   "source": [
    "data = dataset.drop(\"State\", axis=1)\n",
    "data.head()"
   ]
  },
  {
   "cell_type": "code",
   "execution_count": 19,
   "id": "00d0d259",
   "metadata": {},
   "outputs": [
    {
     "data": {
      "text/plain": [
       "112012.63920000002"
      ]
     },
     "execution_count": 19,
     "metadata": {},
     "output_type": "execute_result"
    }
   ],
   "source": [
    "# To call a function use the function name and ()\n",
    "#if the function takes in an input value make sure\n",
    "# to pass that in the (input)\n",
    "calc_mean(data[\"Profit\"])"
   ]
  },
  {
   "cell_type": "markdown",
   "id": "2841544d",
   "metadata": {},
   "source": [
    "### Median Function\n",
    "\n",
    "TO get the median of the data which is the middle value of a sorted array, we first need to sort the data. "
   ]
  },
  {
   "cell_type": "code",
   "execution_count": 33,
   "id": "15c5b7a3",
   "metadata": {},
   "outputs": [],
   "source": [
    "def calc_median(variable):\n",
    "    if len(variable) == 0:\n",
    "        return None\n",
    "    variable.sort_values() # sort_values as the data tyep is series \n",
    "    n = len(variable)\n",
    "    if n % 2 == 0: # of we divide the length of the data by 2 \n",
    "                        # and we get a 0 remainder then we assum the data is even\n",
    "        mid1 = variable[n //  2 - 1]\n",
    "        mid2 = variable[n // 2] # index [] of the data\n",
    "        median = ((mid1 + mid2) / 2) # sum and divide the middle 2 values\n",
    "        return median\n",
    "    else:\n",
    "        median = variable[n // 2] # returns the median in an odd number array\n",
    "        return median"
   ]
  },
  {
   "cell_type": "code",
   "execution_count": 35,
   "id": "08e33a5d",
   "metadata": {},
   "outputs": [
    {
     "data": {
      "text/plain": [
       "107978.19"
      ]
     },
     "execution_count": 35,
     "metadata": {},
     "output_type": "execute_result"
    }
   ],
   "source": [
    "calc_median(data[\"Profit\"])"
   ]
  },
  {
   "cell_type": "markdown",
   "id": "3b8c7801",
   "metadata": {},
   "source": [
    "### Mode Function\n",
    "\n",
    "To calculate the mode we need to find the frequency of all available labels"
   ]
  },
  {
   "cell_type": "code",
   "execution_count": 47,
   "id": "16ab7916",
   "metadata": {},
   "outputs": [],
   "source": [
    "def calc_mode(variable):\n",
    "    if len(variable) == 0:\n",
    "        return None\n",
    "    num_freq = {} # CURLY BRACKETS FOR DICTIONARY\n",
    "    # to get the frequency we need to count \n",
    "    # the number of occurneces for these labels\n",
    "    for num in variable: \n",
    "        #For every number in the empty dictionary \n",
    "        # we will loop the array\n",
    "        # if the number is present we increment the value +1\n",
    "        if num in num_freq:\n",
    "            num_freq[num] += 1\n",
    "        else: \n",
    "            #if the number is not presetnt we instatntiate the value \n",
    "            # giving it a number value of 1\n",
    "            num_freq[num] = 1\n",
    "    \n",
    "    #once we have iterated throught the entire array \n",
    "    # we will have now established a dictionary of\n",
    "    # Frequencies for the occurence of each value in the array\n",
    "    max_count = max(num_freq.values())\n",
    "    #Call back function that iterates the dictionary returning and comparing the maximum counts of all values \n",
    "    # against the max_count of all values to confirm the highest count i.e the most occuring number\n",
    "    mode = [num for num, count in num_freq.items() if count == max_count]\n",
    "    \n",
    "    #if we cannot find 1 mode or there are more than 1 mode we return no mode found \n",
    "    if len(mode) == len(variable):\n",
    "        return \"No mode found\"\n",
    "    return mode"
   ]
  },
  {
   "cell_type": "code",
   "execution_count": 48,
   "id": "9d50e094",
   "metadata": {},
   "outputs": [
    {
     "data": {
      "text/plain": [
       "'No mode found'"
      ]
     },
     "execution_count": 48,
     "metadata": {},
     "output_type": "execute_result"
    }
   ],
   "source": [
    "calc_mode(data[\"Profit\"])"
   ]
  },
  {
   "cell_type": "code",
   "execution_count": 55,
   "id": "b73e6fc2",
   "metadata": {},
   "outputs": [],
   "source": [
    "def calc_IQR(variable):\n",
    "    if len(variable) == 0: \n",
    "        return None\n",
    "    variable.sort_values()\n",
    "    n = len(variable) # Sample size\n",
    "    q1 = variable[(n-1) // 4] # calculate tthe quarter by dividing the data into four\n",
    "    q3 = variable[(3 * (n-1)) // 4] # get the first quater index and multiply by 3 to get the 3rd quarter \n",
    "    iqr = q1 - q3 \n",
    "    return iqr"
   ]
  },
  {
   "cell_type": "code",
   "execution_count": 56,
   "id": "9eb6cdcb",
   "metadata": {
    "scrolled": true
   },
   "outputs": [
    {
     "data": {
      "text/plain": [
       "50877.32999999999"
      ]
     },
     "execution_count": 56,
     "metadata": {},
     "output_type": "execute_result"
    }
   ],
   "source": [
    "calc_IQR(data[\"Profit\"])"
   ]
  }
 ],
 "metadata": {
  "kernelspec": {
   "display_name": "Python 3 (ipykernel)",
   "language": "python",
   "name": "python3"
  },
  "language_info": {
   "codemirror_mode": {
    "name": "ipython",
    "version": 3
   },
   "file_extension": ".py",
   "mimetype": "text/x-python",
   "name": "python",
   "nbconvert_exporter": "python",
   "pygments_lexer": "ipython3",
   "version": "3.11.5"
  }
 },
 "nbformat": 4,
 "nbformat_minor": 5
}

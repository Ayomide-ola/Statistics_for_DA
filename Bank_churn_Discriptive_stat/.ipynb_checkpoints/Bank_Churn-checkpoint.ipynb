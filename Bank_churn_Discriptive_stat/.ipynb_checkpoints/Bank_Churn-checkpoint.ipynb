{
 "cells": [
  {
   "cell_type": "markdown",
   "id": "7445a0b6",
   "metadata": {},
   "source": [
    "## Refrences\n",
    "1.  Hector Cuesta (2013) Practical Data Analysis. Birmingham, UK: Packt Publishing. Available at: https://search.ebscohost.com/login.aspx?direct=true&db=e250xww&AN=654543&site=eds-live&scope=site (Accessed: 18 October 2023).\n",
    "2. Topre, G. (2022). Bank Customer Churn Dataset. [online] www.kaggle.com. Available at: https://www.kaggle.com/datasets/gauravtopre/bank-customer-churn-dataset.\n",
    "3. Torres-Reyna, O. (2008). Data Preparation & Descriptive Statistics. [online] Available at: https://www.princeton.edu/~otorres/DataPrep101.pdf [Accessed 14 May 2022].\n",
    "4. Mahadevan, M. (2022). Step-by-Step Exploratory Data Analysis (EDA) using Python -. [online] Analytics Vidhya. Available at: https://www.analyticsvidhya.com/blog/2022/07/step-by-step-exploratory-data-analysis-eda-using-python/."
   ]
  },
  {
   "cell_type": "markdown",
   "id": "29425234",
   "metadata": {},
   "source": [
    "# 1. Introduction"
   ]
  },
  {
   "cell_type": "markdown",
   "id": "012910b2",
   "metadata": {},
   "source": [
    "### 1.1 What is data\n",
    "Data is plain facts gathered within a defined context. Statistians would refer to it as a set of obsevations, which contained within variables or columns whith columns possessing varying/unique characteristics. Data can also be referred to as a piece of information after it has been summarised, and when subjected to analysis, data can be referred to as evidence of a hypothesis. Before data can become information and utilmately evidence it must go through a process. Data analysis is the process in which raw data is ordered and organized, to be used in methods that help to explain the past and predict the future (Hector, 2013).\n",
    "Data anslysis requires good use os statiscal thechniques and probability in other to understand, summarise and efficiently and accurately manipulate data hence facilitating making reliable predicts to statakeholders of a domain. In this project we would be using satistical and probability thechniques to summarise Bank churn dataset and ultimately draw conclusion as informed by our analysis. \n",
    "### 1.2 Forms of data\n",
    "Data is a generalised term, but within this term are branches which can be referred to as forms/ types. Data can broadly be divided into 2 types:\n",
    "1. Categorical types: Categorical datas are also reffred to as qualititative datas. This are datas that can not be measured. They are in general any form of data that is not in numerical for. E.g smoker/ non-smoker. \n",
    "2. Numerical types: Numerical data on the otherhand are datas that are in number form E.g. [Age: 20,18..]. They are also called quantitative datas, this meas they can be quantified by numbers, and increament is also propotinal to quantity for example an 18year old person is more aged than a 2year old person. \n",
    "It is worth saying that this 2 data tyoes are just a broad overveiw of forms in which a data can be presented, however each data type has sub-division in them and they mean diffrent things as relating to characteristics of such data and how they would be treated in analysis. \n",
    "### 2. Understanding 'Bank churn' dataset\n",
    "The Bank churn dataset i have chosen to analyse is from ABC Multistate bank (Topre, 2022). Customer churn in simple term is when a customer of an organisation decides to path ways with the bussiness. In this contest ABC multistate bank customer churn would be when a customer of the bank discontinue their patronage of the bank services. This data set has 12 variables in it, and the bank wasnts to be able to see how each if this columns influence a coustomers decision to churn the bank. The data is available in \n",
    "### 2.1 Data source\n",
    "This data is available in comma separated format, and has been downloaded from Kaggle open source. \n",
    "### 2.2 Columns defination (Topre, 2022).\n",
    "1. customer_id: Uniques identification of coustomer. \n",
    "2. credit_score: Credit score of each coustomer\n",
    "3. country: This is the region the coustomer is based.\n",
    "4. Gender: This is the gender of each uniqe customer.\n",
    "5. Age: This variable countains the age of the counstomer.\n",
    "6. Tenure: This is how long the coustomer has been with the bank.\n",
    "7. Balance: This ia the available balance of coustomer account at the time of data collection.\n",
    "8. products_number: This is the ammount of servises coustomer signed up for with the bank.\n",
    "9. credit_card: This states wither a customer has a credit card or not.\n",
    "10. active_member: This checks if the counstomer is still active customer of the bank .\n",
    "11. estimated_salary: The estimated gross salary of each customer.\n",
    "12. churn: Checks if coustomers have left ABC Multistate bank or not \n",
    "\n",
    "### Bank Churn classification variable dictionary\n",
    "<table>                         \n",
    "    <tr>\n",
    "    <th>Name </th>\n",
    "    <th>Value 1</th>\n",
    "    <th>Description 3</th> \n",
    "     <th>Value 2</th> \n",
    "     <th>Description 3</th> \n",
    "</tr>\n",
    "\n",
    "<tr>\n",
    "    <td>Churn</td> \n",
    "    <td>1</td> \n",
    "    <td>Yes: Customer that has not left ABC Multistate bank </td>\n",
    "    <td>0 </td>\n",
    "    <td>No: Customer that have left ABC Multistate bank </td>\n",
    "    \n",
    "</tr>\n",
    "\n",
    "<tr>\n",
    "    <td>Active_member</td> \n",
    "    <td>1</td> \n",
    "    <td>Yes: Active customers of the ABC Multistate bank</td> \n",
    "    <td>0</td>\n",
    "    <td>No: Inactive Customers of left ABC Multistate bank</td>\n",
    "</tr>\n",
    "    <tr>\n",
    "    <td>Credit_card</td> \n",
    "    <td>1</td> \n",
    "    <td>Yes: Customer's that own a credit card</td>\n",
    "    <td>0</td>\n",
    "    <td>No: Customer's that do not own a credit card</td>\n",
    "</table>\n",
    "\n",
    "\n",
    "\n",
    "### 3. Objectives\n",
    "With this data, i would be implementing the following in python programming language:\n",
    "1. Read data into pandas dataframe format. \n",
    "2. Explore 5 number summary of data using method in pandas and funtions.\n",
    "3. Visualise distributions using appropriate visualisation technique.\n",
    "4. Report on findings and conclusion based on analysis. \n"
   ]
  },
  {
   "cell_type": "markdown",
   "id": "a848d948",
   "metadata": {},
   "source": [
    "#### Importing liabraries"
   ]
  },
  {
   "cell_type": "code",
   "execution_count": 1,
   "id": "6b486880",
   "metadata": {},
   "outputs": [],
   "source": [
    "import pandas as pd # Pandas liabray from data manipulation and analysis\n",
    "import numpy as np # Numpy liabrary helps to perform mathematical operations on features in a data\n",
    "import statistics as stats # Statistis liabray helps to perform divers stataistical operations\n",
    "import matplotlib.pyplot as plt # plt and sns are visualisation tools, used for visulising data.\n",
    "import seaborn as sns"
   ]
  },
  {
   "cell_type": "markdown",
   "id": "8f95c8d5",
   "metadata": {},
   "source": [
    "#### Reading csv file to dataframe format\n",
    "To be able to manipulate data using python, we have to read the data in dataframe(df) format. \n",
    "To do this we would used 'read_csv' method in pandas and pass the name of the csv file into this operation as an argument in perentesis. "
   ]
  },
  {
   "cell_type": "code",
   "execution_count": 2,
   "id": "7c75a06e",
   "metadata": {},
   "outputs": [],
   "source": [
    "churn = pd.read_csv('Bank Customer Churn Prediction.csv')"
   ]
  },
  {
   "cell_type": "markdown",
   "id": "0fd216d9",
   "metadata": {},
   "source": [
    "#### Displaying the head and tail of churn df\n",
    "Head and tail means displaying the first and last five rows of df. \n",
    "To do the we would use the '.head()' and '.tail()' methods from pd. "
   ]
  },
  {
   "cell_type": "code",
   "execution_count": 3,
   "id": "1261aa51",
   "metadata": {},
   "outputs": [
    {
     "data": {
      "text/html": [
       "<div>\n",
       "<style scoped>\n",
       "    .dataframe tbody tr th:only-of-type {\n",
       "        vertical-align: middle;\n",
       "    }\n",
       "\n",
       "    .dataframe tbody tr th {\n",
       "        vertical-align: top;\n",
       "    }\n",
       "\n",
       "    .dataframe thead th {\n",
       "        text-align: right;\n",
       "    }\n",
       "</style>\n",
       "<table border=\"1\" class=\"dataframe\">\n",
       "  <thead>\n",
       "    <tr style=\"text-align: right;\">\n",
       "      <th></th>\n",
       "      <th>customer_id</th>\n",
       "      <th>credit_score</th>\n",
       "      <th>country</th>\n",
       "      <th>gender</th>\n",
       "      <th>age</th>\n",
       "      <th>tenure</th>\n",
       "      <th>balance</th>\n",
       "      <th>products_number</th>\n",
       "      <th>credit_card</th>\n",
       "      <th>active_member</th>\n",
       "      <th>estimated_salary</th>\n",
       "      <th>churn</th>\n",
       "    </tr>\n",
       "  </thead>\n",
       "  <tbody>\n",
       "    <tr>\n",
       "      <th>0</th>\n",
       "      <td>15634602</td>\n",
       "      <td>619</td>\n",
       "      <td>France</td>\n",
       "      <td>Female</td>\n",
       "      <td>42</td>\n",
       "      <td>2</td>\n",
       "      <td>0.00</td>\n",
       "      <td>1</td>\n",
       "      <td>1</td>\n",
       "      <td>1</td>\n",
       "      <td>101348.88</td>\n",
       "      <td>1</td>\n",
       "    </tr>\n",
       "    <tr>\n",
       "      <th>1</th>\n",
       "      <td>15647311</td>\n",
       "      <td>608</td>\n",
       "      <td>Spain</td>\n",
       "      <td>Female</td>\n",
       "      <td>41</td>\n",
       "      <td>1</td>\n",
       "      <td>83807.86</td>\n",
       "      <td>1</td>\n",
       "      <td>0</td>\n",
       "      <td>1</td>\n",
       "      <td>112542.58</td>\n",
       "      <td>0</td>\n",
       "    </tr>\n",
       "    <tr>\n",
       "      <th>2</th>\n",
       "      <td>15619304</td>\n",
       "      <td>502</td>\n",
       "      <td>France</td>\n",
       "      <td>Female</td>\n",
       "      <td>42</td>\n",
       "      <td>8</td>\n",
       "      <td>159660.80</td>\n",
       "      <td>3</td>\n",
       "      <td>1</td>\n",
       "      <td>0</td>\n",
       "      <td>113931.57</td>\n",
       "      <td>1</td>\n",
       "    </tr>\n",
       "    <tr>\n",
       "      <th>3</th>\n",
       "      <td>15701354</td>\n",
       "      <td>699</td>\n",
       "      <td>France</td>\n",
       "      <td>Female</td>\n",
       "      <td>39</td>\n",
       "      <td>1</td>\n",
       "      <td>0.00</td>\n",
       "      <td>2</td>\n",
       "      <td>0</td>\n",
       "      <td>0</td>\n",
       "      <td>93826.63</td>\n",
       "      <td>0</td>\n",
       "    </tr>\n",
       "    <tr>\n",
       "      <th>4</th>\n",
       "      <td>15737888</td>\n",
       "      <td>850</td>\n",
       "      <td>Spain</td>\n",
       "      <td>Female</td>\n",
       "      <td>43</td>\n",
       "      <td>2</td>\n",
       "      <td>125510.82</td>\n",
       "      <td>1</td>\n",
       "      <td>1</td>\n",
       "      <td>1</td>\n",
       "      <td>79084.10</td>\n",
       "      <td>0</td>\n",
       "    </tr>\n",
       "  </tbody>\n",
       "</table>\n",
       "</div>"
      ],
      "text/plain": [
       "   customer_id  credit_score country  gender  age  tenure    balance  \\\n",
       "0     15634602           619  France  Female   42       2       0.00   \n",
       "1     15647311           608   Spain  Female   41       1   83807.86   \n",
       "2     15619304           502  France  Female   42       8  159660.80   \n",
       "3     15701354           699  France  Female   39       1       0.00   \n",
       "4     15737888           850   Spain  Female   43       2  125510.82   \n",
       "\n",
       "   products_number  credit_card  active_member  estimated_salary  churn  \n",
       "0                1            1              1         101348.88      1  \n",
       "1                1            0              1         112542.58      0  \n",
       "2                3            1              0         113931.57      1  \n",
       "3                2            0              0          93826.63      0  \n",
       "4                1            1              1          79084.10      0  "
      ]
     },
     "execution_count": 3,
     "metadata": {},
     "output_type": "execute_result"
    }
   ],
   "source": [
    "churn.head()"
   ]
  },
  {
   "cell_type": "code",
   "execution_count": 4,
   "id": "8c245497",
   "metadata": {},
   "outputs": [
    {
     "data": {
      "text/html": [
       "<div>\n",
       "<style scoped>\n",
       "    .dataframe tbody tr th:only-of-type {\n",
       "        vertical-align: middle;\n",
       "    }\n",
       "\n",
       "    .dataframe tbody tr th {\n",
       "        vertical-align: top;\n",
       "    }\n",
       "\n",
       "    .dataframe thead th {\n",
       "        text-align: right;\n",
       "    }\n",
       "</style>\n",
       "<table border=\"1\" class=\"dataframe\">\n",
       "  <thead>\n",
       "    <tr style=\"text-align: right;\">\n",
       "      <th></th>\n",
       "      <th>customer_id</th>\n",
       "      <th>credit_score</th>\n",
       "      <th>country</th>\n",
       "      <th>gender</th>\n",
       "      <th>age</th>\n",
       "      <th>tenure</th>\n",
       "      <th>balance</th>\n",
       "      <th>products_number</th>\n",
       "      <th>credit_card</th>\n",
       "      <th>active_member</th>\n",
       "      <th>estimated_salary</th>\n",
       "      <th>churn</th>\n",
       "    </tr>\n",
       "  </thead>\n",
       "  <tbody>\n",
       "    <tr>\n",
       "      <th>9995</th>\n",
       "      <td>15606229</td>\n",
       "      <td>771</td>\n",
       "      <td>France</td>\n",
       "      <td>Male</td>\n",
       "      <td>39</td>\n",
       "      <td>5</td>\n",
       "      <td>0.00</td>\n",
       "      <td>2</td>\n",
       "      <td>1</td>\n",
       "      <td>0</td>\n",
       "      <td>96270.64</td>\n",
       "      <td>0</td>\n",
       "    </tr>\n",
       "    <tr>\n",
       "      <th>9996</th>\n",
       "      <td>15569892</td>\n",
       "      <td>516</td>\n",
       "      <td>France</td>\n",
       "      <td>Male</td>\n",
       "      <td>35</td>\n",
       "      <td>10</td>\n",
       "      <td>57369.61</td>\n",
       "      <td>1</td>\n",
       "      <td>1</td>\n",
       "      <td>1</td>\n",
       "      <td>101699.77</td>\n",
       "      <td>0</td>\n",
       "    </tr>\n",
       "    <tr>\n",
       "      <th>9997</th>\n",
       "      <td>15584532</td>\n",
       "      <td>709</td>\n",
       "      <td>France</td>\n",
       "      <td>Female</td>\n",
       "      <td>36</td>\n",
       "      <td>7</td>\n",
       "      <td>0.00</td>\n",
       "      <td>1</td>\n",
       "      <td>0</td>\n",
       "      <td>1</td>\n",
       "      <td>42085.58</td>\n",
       "      <td>1</td>\n",
       "    </tr>\n",
       "    <tr>\n",
       "      <th>9998</th>\n",
       "      <td>15682355</td>\n",
       "      <td>772</td>\n",
       "      <td>Germany</td>\n",
       "      <td>Male</td>\n",
       "      <td>42</td>\n",
       "      <td>3</td>\n",
       "      <td>75075.31</td>\n",
       "      <td>2</td>\n",
       "      <td>1</td>\n",
       "      <td>0</td>\n",
       "      <td>92888.52</td>\n",
       "      <td>1</td>\n",
       "    </tr>\n",
       "    <tr>\n",
       "      <th>9999</th>\n",
       "      <td>15628319</td>\n",
       "      <td>792</td>\n",
       "      <td>France</td>\n",
       "      <td>Female</td>\n",
       "      <td>28</td>\n",
       "      <td>4</td>\n",
       "      <td>130142.79</td>\n",
       "      <td>1</td>\n",
       "      <td>1</td>\n",
       "      <td>0</td>\n",
       "      <td>38190.78</td>\n",
       "      <td>0</td>\n",
       "    </tr>\n",
       "  </tbody>\n",
       "</table>\n",
       "</div>"
      ],
      "text/plain": [
       "      customer_id  credit_score  country  gender  age  tenure    balance  \\\n",
       "9995     15606229           771   France    Male   39       5       0.00   \n",
       "9996     15569892           516   France    Male   35      10   57369.61   \n",
       "9997     15584532           709   France  Female   36       7       0.00   \n",
       "9998     15682355           772  Germany    Male   42       3   75075.31   \n",
       "9999     15628319           792   France  Female   28       4  130142.79   \n",
       "\n",
       "      products_number  credit_card  active_member  estimated_salary  churn  \n",
       "9995                2            1              0          96270.64      0  \n",
       "9996                1            1              1         101699.77      0  \n",
       "9997                1            0              1          42085.58      1  \n",
       "9998                2            1              0          92888.52      1  \n",
       "9999                1            1              0          38190.78      0  "
      ]
     },
     "execution_count": 4,
     "metadata": {},
     "output_type": "execute_result"
    }
   ],
   "source": [
    "churn.tail()"
   ]
  },
  {
   "cell_type": "markdown",
   "id": "8055dc6e",
   "metadata": {},
   "source": [
    "#### Data size and type\n",
    "The size is the number of rows and column in df. And the type is the type of data contained in each variable. \n",
    "To do this we would be using the '.shape()' and '.info()' methods from pd laibray."
   ]
  },
  {
   "cell_type": "code",
   "execution_count": 5,
   "id": "e94ff60c",
   "metadata": {},
   "outputs": [
    {
     "data": {
      "text/plain": [
       "(10000, 12)"
      ]
     },
     "execution_count": 5,
     "metadata": {},
     "output_type": "execute_result"
    }
   ],
   "source": [
    "churn.shape"
   ]
  },
  {
   "cell_type": "code",
   "execution_count": 6,
   "id": "68cf3344",
   "metadata": {},
   "outputs": [
    {
     "name": "stdout",
     "output_type": "stream",
     "text": [
      "<class 'pandas.core.frame.DataFrame'>\n",
      "RangeIndex: 10000 entries, 0 to 9999\n",
      "Data columns (total 12 columns):\n",
      " #   Column            Non-Null Count  Dtype  \n",
      "---  ------            --------------  -----  \n",
      " 0   customer_id       10000 non-null  int64  \n",
      " 1   credit_score      10000 non-null  int64  \n",
      " 2   country           10000 non-null  object \n",
      " 3   gender            10000 non-null  object \n",
      " 4   age               10000 non-null  int64  \n",
      " 5   tenure            10000 non-null  int64  \n",
      " 6   balance           10000 non-null  float64\n",
      " 7   products_number   10000 non-null  int64  \n",
      " 8   credit_card       10000 non-null  int64  \n",
      " 9   active_member     10000 non-null  int64  \n",
      " 10  estimated_salary  10000 non-null  float64\n",
      " 11  churn             10000 non-null  int64  \n",
      "dtypes: float64(2), int64(8), object(2)\n",
      "memory usage: 937.6+ KB\n"
     ]
    }
   ],
   "source": [
    "churn.info()"
   ]
  },
  {
   "cell_type": "code",
   "execution_count": 7,
   "id": "1bb5c495",
   "metadata": {},
   "outputs": [
    {
     "data": {
      "text/plain": [
       "array([1, 0], dtype=int64)"
      ]
     },
     "execution_count": 7,
     "metadata": {},
     "output_type": "execute_result"
    }
   ],
   "source": [
    "churn['active_member'].unique()"
   ]
  },
  {
   "cell_type": "code",
   "execution_count": 8,
   "id": "a8250b77",
   "metadata": {},
   "outputs": [
    {
     "data": {
      "text/plain": [
       "array([1, 0], dtype=int64)"
      ]
     },
     "execution_count": 8,
     "metadata": {},
     "output_type": "execute_result"
    }
   ],
   "source": [
    "churn['churn'].unique()"
   ]
  },
  {
   "cell_type": "code",
   "execution_count": 9,
   "id": "e35bb9cd",
   "metadata": {},
   "outputs": [
    {
     "data": {
      "text/plain": [
       "array([1, 0], dtype=int64)"
      ]
     },
     "execution_count": 9,
     "metadata": {},
     "output_type": "execute_result"
    }
   ],
   "source": [
    "churn['credit_card'].unique()"
   ]
  },
  {
   "cell_type": "markdown",
   "id": "71e7070a",
   "metadata": {},
   "source": [
    "#### Understanding outcome.\n",
    "Output from size operation suggests that their are 12 columns and 10000 rows in chrn df. Furthermore, info operation output shows that there are 2 categorical variable, 10 numerical variables out of which 8 are integers and 2 are floats.\n",
    "#### Meaning of variables\n",
    "The definitions of each variable has been reported in the introduction. However, the following variable ['active_member', 'churn', 'credit_card'] according to defination are categorical variables, but have been converted to numerical form to facilitate visualisation and modelling. To be specific, 'active_member' 1 and 0 means yes and no respectively if coustomer is still an active member of the bank. 'churn' 1 and 0 mean yes and no respectively if customer have left the bank or haven't. 'credit_card' 1 and 0 resectively mean yes and no if a coustomer has credit card. \n",
    "This variable according to infomation output have been interpreted has integers, how ever we must not interpret or treat them are numbers but just as method of classifying/categorising a statement result i.e yes/no. Staistical summary of this values would not be interpretted as number other operations would be inplemented in this project to describe this variables. \n",
    "\n",
    "### talk about encoding, the cat varibles have been encoded\n",
    "\n",
    "The remaining variables however can be treated as interpreted by pandas for example 'product_number' 1 means a customer has just 1 quantity of product. Statistical summary of this column would be a true representation of distribution of the observations. "
   ]
  },
  {
   "cell_type": "markdown",
   "id": "b6ff72a9",
   "metadata": {},
   "source": [
    "## Descriptive statistics"
   ]
  },
  {
   "cell_type": "markdown",
   "id": "368f4b71",
   "metadata": {},
   "source": [
    "Statistics summary gives a high-level idea to identify whether the data has any outliers, data entry error, distribution of data such as the data is normally distributed or left/right skewed (Mahadevan, 2022).\n",
    "Discriptive statistics has two broad aspect namely summarization and viasulaisation. It is a branch of statististical analysis, that involves summarizing, organizing, and presenting data in a concise and meaniful way (simplilearn, 2021). Descriptive statistis however does not make any genralized conlusion on a general population, for instatce the descriptive statistical result of 'churn' is not a representation of all the customers in ABC bank, it only foucuses on decribing the columns in 'chun'(simplilearn, 2021).\n",
    "Descriptive statistics summarizes the measure of central tentency (location), and variability in each column of a dataset(Torres-Reyna, 2008). "
   ]
  },
  {
   "cell_type": "markdown",
   "id": "5f86a73c",
   "metadata": {},
   "source": [
    "### Measure of central tendency (Location)\n",
    "This gives an insight into the distribution of data. Te central tentency shows the middle of the data and to analysis this we use the 5 number summary. \n",
    "##### Five Number summary\n",
    "Five number summary means summarising data under five heads namely: Mean, median, Mode, Min and Max. \n",
    "1. ***Mean:*** This is the average of the observations in a column. It is calculated by summing together all observations in a variable and dividing the sum by the count of all observation. In 'chur' the mean of any variable would be the sum of all variables divided by 10000. It is the most common indicator of central tentendcy (Torres-Reyna, 2008)\n",
    "2. ***Median:*** This is the middle or average of the middle observations of a variable after the ovservations have been sorted in accessending order i.e from lowest observation to the highest. This in our number summary would be the 50% of the variable. It is another measure of central tendency (Torres-Reyna, 2008).\n",
    "3. ***Mode:*** Mode refers to the most frequent observation in a given variable. \n",
    "4. ***Min:*** This is simple the minimum value in each variable. \n",
    "5. ***Max:*** This is the maximum value in each varible. \n",
    "With this five statistical operations, we can summarise the locations of observations in each variable.\n",
    "#### Variability\n",
    "In addition to knowing locations of our observations, it is important to explore the variablility of the observations from the mean (50%). To do this we would have to calculate: Variance, range, and Starndard deviation. \n",
    "\n",
    "6. ***Variance:**** Variance as the name implies, is the measure of dispersion of data from the mean (50%) (Torres-Reyna, 2008). This is calculated by squaring the diffrence between mean and each observation in a column i.e (each column observation minus mean of the column), and dividing the summation of squares by the to total number of observation minus 1 i.e (1000-1) for 'churn' (Hayes, 2023). This \n",
    "7. ***Stardard deviation:*** Standard deviation is the square root of variance. Variables with high stardard deviation relative to the mean have their datas spread out from the mean, while those with small standard deviation have their datas tightly grouped close to the mean.\n"
   ]
  },
  {
   "cell_type": "code",
   "execution_count": 10,
   "id": "e632033d",
   "metadata": {},
   "outputs": [
    {
     "data": {
      "text/plain": [
       "customer_id         0\n",
       "credit_score        0\n",
       "country             0\n",
       "gender              0\n",
       "age                 0\n",
       "tenure              0\n",
       "balance             0\n",
       "products_number     0\n",
       "credit_card         0\n",
       "active_member       0\n",
       "estimated_salary    0\n",
       "churn               0\n",
       "dtype: int64"
      ]
     },
     "execution_count": 10,
     "metadata": {},
     "output_type": "execute_result"
    }
   ],
   "source": [
    "churn.isnull().sum() "
   ]
  },
  {
   "cell_type": "markdown",
   "id": "eb33b957",
   "metadata": {},
   "source": [
    "Checking if there are null values in the colums using '.isnull()' method, '.sum()' would return the sum of null values found in each column if any."
   ]
  },
  {
   "cell_type": "code",
   "execution_count": 11,
   "id": "a0086bd2",
   "metadata": {},
   "outputs": [
    {
     "data": {
      "text/html": [
       "<div>\n",
       "<style scoped>\n",
       "    .dataframe tbody tr th:only-of-type {\n",
       "        vertical-align: middle;\n",
       "    }\n",
       "\n",
       "    .dataframe tbody tr th {\n",
       "        vertical-align: top;\n",
       "    }\n",
       "\n",
       "    .dataframe thead th {\n",
       "        text-align: right;\n",
       "    }\n",
       "</style>\n",
       "<table border=\"1\" class=\"dataframe\">\n",
       "  <thead>\n",
       "    <tr style=\"text-align: right;\">\n",
       "      <th></th>\n",
       "      <th>customer_id</th>\n",
       "      <th>credit_score</th>\n",
       "      <th>age</th>\n",
       "      <th>tenure</th>\n",
       "      <th>balance</th>\n",
       "      <th>products_number</th>\n",
       "      <th>credit_card</th>\n",
       "      <th>active_member</th>\n",
       "      <th>estimated_salary</th>\n",
       "      <th>churn</th>\n",
       "    </tr>\n",
       "  </thead>\n",
       "  <tbody>\n",
       "    <tr>\n",
       "      <th>count</th>\n",
       "      <td>1.000000e+04</td>\n",
       "      <td>10000.000000</td>\n",
       "      <td>10000.000000</td>\n",
       "      <td>10000.000000</td>\n",
       "      <td>10000.000000</td>\n",
       "      <td>10000.000000</td>\n",
       "      <td>10000.00000</td>\n",
       "      <td>10000.000000</td>\n",
       "      <td>10000.000000</td>\n",
       "      <td>10000.000000</td>\n",
       "    </tr>\n",
       "    <tr>\n",
       "      <th>mean</th>\n",
       "      <td>1.569094e+07</td>\n",
       "      <td>650.528800</td>\n",
       "      <td>38.921800</td>\n",
       "      <td>5.012800</td>\n",
       "      <td>76485.889288</td>\n",
       "      <td>1.530200</td>\n",
       "      <td>0.70550</td>\n",
       "      <td>0.515100</td>\n",
       "      <td>100090.239881</td>\n",
       "      <td>0.203700</td>\n",
       "    </tr>\n",
       "    <tr>\n",
       "      <th>std</th>\n",
       "      <td>7.193619e+04</td>\n",
       "      <td>96.653299</td>\n",
       "      <td>10.487806</td>\n",
       "      <td>2.892174</td>\n",
       "      <td>62397.405202</td>\n",
       "      <td>0.581654</td>\n",
       "      <td>0.45584</td>\n",
       "      <td>0.499797</td>\n",
       "      <td>57510.492818</td>\n",
       "      <td>0.402769</td>\n",
       "    </tr>\n",
       "    <tr>\n",
       "      <th>min</th>\n",
       "      <td>1.556570e+07</td>\n",
       "      <td>350.000000</td>\n",
       "      <td>18.000000</td>\n",
       "      <td>0.000000</td>\n",
       "      <td>0.000000</td>\n",
       "      <td>1.000000</td>\n",
       "      <td>0.00000</td>\n",
       "      <td>0.000000</td>\n",
       "      <td>11.580000</td>\n",
       "      <td>0.000000</td>\n",
       "    </tr>\n",
       "    <tr>\n",
       "      <th>25%</th>\n",
       "      <td>1.562853e+07</td>\n",
       "      <td>584.000000</td>\n",
       "      <td>32.000000</td>\n",
       "      <td>3.000000</td>\n",
       "      <td>0.000000</td>\n",
       "      <td>1.000000</td>\n",
       "      <td>0.00000</td>\n",
       "      <td>0.000000</td>\n",
       "      <td>51002.110000</td>\n",
       "      <td>0.000000</td>\n",
       "    </tr>\n",
       "    <tr>\n",
       "      <th>50%</th>\n",
       "      <td>1.569074e+07</td>\n",
       "      <td>652.000000</td>\n",
       "      <td>37.000000</td>\n",
       "      <td>5.000000</td>\n",
       "      <td>97198.540000</td>\n",
       "      <td>1.000000</td>\n",
       "      <td>1.00000</td>\n",
       "      <td>1.000000</td>\n",
       "      <td>100193.915000</td>\n",
       "      <td>0.000000</td>\n",
       "    </tr>\n",
       "    <tr>\n",
       "      <th>75%</th>\n",
       "      <td>1.575323e+07</td>\n",
       "      <td>718.000000</td>\n",
       "      <td>44.000000</td>\n",
       "      <td>7.000000</td>\n",
       "      <td>127644.240000</td>\n",
       "      <td>2.000000</td>\n",
       "      <td>1.00000</td>\n",
       "      <td>1.000000</td>\n",
       "      <td>149388.247500</td>\n",
       "      <td>0.000000</td>\n",
       "    </tr>\n",
       "    <tr>\n",
       "      <th>max</th>\n",
       "      <td>1.581569e+07</td>\n",
       "      <td>850.000000</td>\n",
       "      <td>92.000000</td>\n",
       "      <td>10.000000</td>\n",
       "      <td>250898.090000</td>\n",
       "      <td>4.000000</td>\n",
       "      <td>1.00000</td>\n",
       "      <td>1.000000</td>\n",
       "      <td>199992.480000</td>\n",
       "      <td>1.000000</td>\n",
       "    </tr>\n",
       "  </tbody>\n",
       "</table>\n",
       "</div>"
      ],
      "text/plain": [
       "        customer_id  credit_score           age        tenure        balance  \\\n",
       "count  1.000000e+04  10000.000000  10000.000000  10000.000000   10000.000000   \n",
       "mean   1.569094e+07    650.528800     38.921800      5.012800   76485.889288   \n",
       "std    7.193619e+04     96.653299     10.487806      2.892174   62397.405202   \n",
       "min    1.556570e+07    350.000000     18.000000      0.000000       0.000000   \n",
       "25%    1.562853e+07    584.000000     32.000000      3.000000       0.000000   \n",
       "50%    1.569074e+07    652.000000     37.000000      5.000000   97198.540000   \n",
       "75%    1.575323e+07    718.000000     44.000000      7.000000  127644.240000   \n",
       "max    1.581569e+07    850.000000     92.000000     10.000000  250898.090000   \n",
       "\n",
       "       products_number  credit_card  active_member  estimated_salary  \\\n",
       "count     10000.000000  10000.00000   10000.000000      10000.000000   \n",
       "mean          1.530200      0.70550       0.515100     100090.239881   \n",
       "std           0.581654      0.45584       0.499797      57510.492818   \n",
       "min           1.000000      0.00000       0.000000         11.580000   \n",
       "25%           1.000000      0.00000       0.000000      51002.110000   \n",
       "50%           1.000000      1.00000       1.000000     100193.915000   \n",
       "75%           2.000000      1.00000       1.000000     149388.247500   \n",
       "max           4.000000      1.00000       1.000000     199992.480000   \n",
       "\n",
       "              churn  \n",
       "count  10000.000000  \n",
       "mean       0.203700  \n",
       "std        0.402769  \n",
       "min        0.000000  \n",
       "25%        0.000000  \n",
       "50%        0.000000  \n",
       "75%        0.000000  \n",
       "max        1.000000  "
      ]
     },
     "execution_count": 11,
     "metadata": {},
     "output_type": "execute_result"
    }
   ],
   "source": [
    "churn.describe()"
   ]
  },
  {
   "cell_type": "markdown",
   "id": "eeffbc64",
   "metadata": {},
   "source": [
    "The '.describe()' method has been called from pandas library on df 'churn', this will return the descriptive analysis of 'chur'. However, we can notice that pandans has interpreted ['active_member', 'churn', 'credit_card', 'customer_id] as number hence returning the discriptive statistics of this observations. This variables does not contain numerical observations but number have been used to classify them into groups, so the result produced are not an accurate description of this variables. To be able to treat this variable like they are, we would have to convert them to the appropriate value type and define them as such them pandas can treat them as objects not number."
   ]
  },
  {
   "cell_type": "code",
   "execution_count": 12,
   "id": "be268b6a",
   "metadata": {},
   "outputs": [],
   "source": [
    "#len(churn.\"Yes\") / len(churn)\n",
    "#churn[churn.churn === \"Yes\"]"
   ]
  },
  {
   "cell_type": "code",
   "execution_count": 13,
   "id": "7602471c",
   "metadata": {},
   "outputs": [],
   "source": [
    "ch= churn['customer_id'].astype(object)\n",
    "churn['customer_id'] = ch"
   ]
  },
  {
   "cell_type": "code",
   "execution_count": 14,
   "id": "a836c8ce",
   "metadata": {},
   "outputs": [],
   "source": [
    "chc = churn['churn'].astype(object)\n",
    "churn['churn'] = chc"
   ]
  },
  {
   "cell_type": "code",
   "execution_count": 15,
   "id": "527237f0",
   "metadata": {},
   "outputs": [],
   "source": [
    "cHc = churn['active_member'].astype(object) \n",
    "churn['active_member'] = cHc "
   ]
  },
  {
   "cell_type": "code",
   "execution_count": 16,
   "id": "0da8a71b",
   "metadata": {},
   "outputs": [],
   "source": [
    "cHC = churn['credit_card'].astype(object)\n",
    "churn['credit_card'] = cHC "
   ]
  },
  {
   "cell_type": "code",
   "execution_count": 17,
   "id": "9a84af96",
   "metadata": {},
   "outputs": [
    {
     "data": {
      "text/html": [
       "<div>\n",
       "<style scoped>\n",
       "    .dataframe tbody tr th:only-of-type {\n",
       "        vertical-align: middle;\n",
       "    }\n",
       "\n",
       "    .dataframe tbody tr th {\n",
       "        vertical-align: top;\n",
       "    }\n",
       "\n",
       "    .dataframe thead th {\n",
       "        text-align: right;\n",
       "    }\n",
       "</style>\n",
       "<table border=\"1\" class=\"dataframe\">\n",
       "  <thead>\n",
       "    <tr style=\"text-align: right;\">\n",
       "      <th></th>\n",
       "      <th>customer_id</th>\n",
       "      <th>credit_score</th>\n",
       "      <th>country</th>\n",
       "      <th>gender</th>\n",
       "      <th>age</th>\n",
       "      <th>tenure</th>\n",
       "      <th>balance</th>\n",
       "      <th>products_number</th>\n",
       "      <th>credit_card</th>\n",
       "      <th>active_member</th>\n",
       "      <th>estimated_salary</th>\n",
       "      <th>churn</th>\n",
       "    </tr>\n",
       "  </thead>\n",
       "  <tbody>\n",
       "    <tr>\n",
       "      <th>0</th>\n",
       "      <td>15634602</td>\n",
       "      <td>619</td>\n",
       "      <td>France</td>\n",
       "      <td>Female</td>\n",
       "      <td>42</td>\n",
       "      <td>2</td>\n",
       "      <td>0.00</td>\n",
       "      <td>1</td>\n",
       "      <td>1</td>\n",
       "      <td>1</td>\n",
       "      <td>101348.88</td>\n",
       "      <td>1</td>\n",
       "    </tr>\n",
       "    <tr>\n",
       "      <th>1</th>\n",
       "      <td>15647311</td>\n",
       "      <td>608</td>\n",
       "      <td>Spain</td>\n",
       "      <td>Female</td>\n",
       "      <td>41</td>\n",
       "      <td>1</td>\n",
       "      <td>83807.86</td>\n",
       "      <td>1</td>\n",
       "      <td>0</td>\n",
       "      <td>1</td>\n",
       "      <td>112542.58</td>\n",
       "      <td>0</td>\n",
       "    </tr>\n",
       "    <tr>\n",
       "      <th>2</th>\n",
       "      <td>15619304</td>\n",
       "      <td>502</td>\n",
       "      <td>France</td>\n",
       "      <td>Female</td>\n",
       "      <td>42</td>\n",
       "      <td>8</td>\n",
       "      <td>159660.80</td>\n",
       "      <td>3</td>\n",
       "      <td>1</td>\n",
       "      <td>0</td>\n",
       "      <td>113931.57</td>\n",
       "      <td>1</td>\n",
       "    </tr>\n",
       "    <tr>\n",
       "      <th>3</th>\n",
       "      <td>15701354</td>\n",
       "      <td>699</td>\n",
       "      <td>France</td>\n",
       "      <td>Female</td>\n",
       "      <td>39</td>\n",
       "      <td>1</td>\n",
       "      <td>0.00</td>\n",
       "      <td>2</td>\n",
       "      <td>0</td>\n",
       "      <td>0</td>\n",
       "      <td>93826.63</td>\n",
       "      <td>0</td>\n",
       "    </tr>\n",
       "    <tr>\n",
       "      <th>4</th>\n",
       "      <td>15737888</td>\n",
       "      <td>850</td>\n",
       "      <td>Spain</td>\n",
       "      <td>Female</td>\n",
       "      <td>43</td>\n",
       "      <td>2</td>\n",
       "      <td>125510.82</td>\n",
       "      <td>1</td>\n",
       "      <td>1</td>\n",
       "      <td>1</td>\n",
       "      <td>79084.10</td>\n",
       "      <td>0</td>\n",
       "    </tr>\n",
       "  </tbody>\n",
       "</table>\n",
       "</div>"
      ],
      "text/plain": [
       "  customer_id  credit_score country  gender  age  tenure    balance  \\\n",
       "0    15634602           619  France  Female   42       2       0.00   \n",
       "1    15647311           608   Spain  Female   41       1   83807.86   \n",
       "2    15619304           502  France  Female   42       8  159660.80   \n",
       "3    15701354           699  France  Female   39       1       0.00   \n",
       "4    15737888           850   Spain  Female   43       2  125510.82   \n",
       "\n",
       "   products_number credit_card active_member  estimated_salary churn  \n",
       "0                1           1             1         101348.88     1  \n",
       "1                1           0             1         112542.58     0  \n",
       "2                3           1             0         113931.57     1  \n",
       "3                2           0             0          93826.63     0  \n",
       "4                1           1             1          79084.10     0  "
      ]
     },
     "execution_count": 17,
     "metadata": {},
     "output_type": "execute_result"
    }
   ],
   "source": [
    "churn.head()"
   ]
  },
  {
   "cell_type": "code",
   "execution_count": 18,
   "id": "1d2b2fbc",
   "metadata": {},
   "outputs": [
    {
     "name": "stdout",
     "output_type": "stream",
     "text": [
      "<class 'pandas.core.frame.DataFrame'>\n",
      "RangeIndex: 10000 entries, 0 to 9999\n",
      "Data columns (total 12 columns):\n",
      " #   Column            Non-Null Count  Dtype  \n",
      "---  ------            --------------  -----  \n",
      " 0   customer_id       10000 non-null  object \n",
      " 1   credit_score      10000 non-null  int64  \n",
      " 2   country           10000 non-null  object \n",
      " 3   gender            10000 non-null  object \n",
      " 4   age               10000 non-null  int64  \n",
      " 5   tenure            10000 non-null  int64  \n",
      " 6   balance           10000 non-null  float64\n",
      " 7   products_number   10000 non-null  int64  \n",
      " 8   credit_card       10000 non-null  object \n",
      " 9   active_member     10000 non-null  object \n",
      " 10  estimated_salary  10000 non-null  float64\n",
      " 11  churn             10000 non-null  object \n",
      "dtypes: float64(2), int64(4), object(6)\n",
      "memory usage: 937.6+ KB\n"
     ]
    }
   ],
   "source": [
    "churn.info()"
   ]
  },
  {
   "cell_type": "markdown",
   "id": "54c8c94e",
   "metadata": {},
   "source": [
    "The 'astype()' method have been used to convert ['active_member', 'churn', 'credit_card', 'customer_id] into objects.\n",
    "Now we can see that ['active_member', 'churn', 'credit_card', 'customer_id] have been converted to categorical variable, while still keepin the classification as 0 and 1 in the main df 'churn'. Now if we discribe 'churn' again, thus variables will not not be treated as numbers. "
   ]
  },
  {
   "cell_type": "code",
   "execution_count": null,
   "id": "eb85076a",
   "metadata": {},
   "outputs": [],
   "source": []
  },
  {
   "cell_type": "code",
   "execution_count": 19,
   "id": "4be9e9c7",
   "metadata": {},
   "outputs": [
    {
     "data": {
      "text/html": [
       "<div>\n",
       "<style scoped>\n",
       "    .dataframe tbody tr th:only-of-type {\n",
       "        vertical-align: middle;\n",
       "    }\n",
       "\n",
       "    .dataframe tbody tr th {\n",
       "        vertical-align: top;\n",
       "    }\n",
       "\n",
       "    .dataframe thead th {\n",
       "        text-align: right;\n",
       "    }\n",
       "</style>\n",
       "<table border=\"1\" class=\"dataframe\">\n",
       "  <thead>\n",
       "    <tr style=\"text-align: right;\">\n",
       "      <th></th>\n",
       "      <th>credit_score</th>\n",
       "      <th>age</th>\n",
       "      <th>tenure</th>\n",
       "      <th>balance</th>\n",
       "      <th>products_number</th>\n",
       "      <th>estimated_salary</th>\n",
       "    </tr>\n",
       "  </thead>\n",
       "  <tbody>\n",
       "    <tr>\n",
       "      <th>count</th>\n",
       "      <td>10000.000000</td>\n",
       "      <td>10000.000000</td>\n",
       "      <td>10000.000000</td>\n",
       "      <td>10000.000000</td>\n",
       "      <td>10000.000000</td>\n",
       "      <td>10000.000000</td>\n",
       "    </tr>\n",
       "    <tr>\n",
       "      <th>mean</th>\n",
       "      <td>650.528800</td>\n",
       "      <td>38.921800</td>\n",
       "      <td>5.012800</td>\n",
       "      <td>76485.889288</td>\n",
       "      <td>1.530200</td>\n",
       "      <td>100090.239881</td>\n",
       "    </tr>\n",
       "    <tr>\n",
       "      <th>std</th>\n",
       "      <td>96.653299</td>\n",
       "      <td>10.487806</td>\n",
       "      <td>2.892174</td>\n",
       "      <td>62397.405202</td>\n",
       "      <td>0.581654</td>\n",
       "      <td>57510.492818</td>\n",
       "    </tr>\n",
       "    <tr>\n",
       "      <th>min</th>\n",
       "      <td>350.000000</td>\n",
       "      <td>18.000000</td>\n",
       "      <td>0.000000</td>\n",
       "      <td>0.000000</td>\n",
       "      <td>1.000000</td>\n",
       "      <td>11.580000</td>\n",
       "    </tr>\n",
       "    <tr>\n",
       "      <th>25%</th>\n",
       "      <td>584.000000</td>\n",
       "      <td>32.000000</td>\n",
       "      <td>3.000000</td>\n",
       "      <td>0.000000</td>\n",
       "      <td>1.000000</td>\n",
       "      <td>51002.110000</td>\n",
       "    </tr>\n",
       "    <tr>\n",
       "      <th>50%</th>\n",
       "      <td>652.000000</td>\n",
       "      <td>37.000000</td>\n",
       "      <td>5.000000</td>\n",
       "      <td>97198.540000</td>\n",
       "      <td>1.000000</td>\n",
       "      <td>100193.915000</td>\n",
       "    </tr>\n",
       "    <tr>\n",
       "      <th>75%</th>\n",
       "      <td>718.000000</td>\n",
       "      <td>44.000000</td>\n",
       "      <td>7.000000</td>\n",
       "      <td>127644.240000</td>\n",
       "      <td>2.000000</td>\n",
       "      <td>149388.247500</td>\n",
       "    </tr>\n",
       "    <tr>\n",
       "      <th>max</th>\n",
       "      <td>850.000000</td>\n",
       "      <td>92.000000</td>\n",
       "      <td>10.000000</td>\n",
       "      <td>250898.090000</td>\n",
       "      <td>4.000000</td>\n",
       "      <td>199992.480000</td>\n",
       "    </tr>\n",
       "  </tbody>\n",
       "</table>\n",
       "</div>"
      ],
      "text/plain": [
       "       credit_score           age        tenure        balance  \\\n",
       "count  10000.000000  10000.000000  10000.000000   10000.000000   \n",
       "mean     650.528800     38.921800      5.012800   76485.889288   \n",
       "std       96.653299     10.487806      2.892174   62397.405202   \n",
       "min      350.000000     18.000000      0.000000       0.000000   \n",
       "25%      584.000000     32.000000      3.000000       0.000000   \n",
       "50%      652.000000     37.000000      5.000000   97198.540000   \n",
       "75%      718.000000     44.000000      7.000000  127644.240000   \n",
       "max      850.000000     92.000000     10.000000  250898.090000   \n",
       "\n",
       "       products_number  estimated_salary  \n",
       "count     10000.000000      10000.000000  \n",
       "mean          1.530200     100090.239881  \n",
       "std           0.581654      57510.492818  \n",
       "min           1.000000         11.580000  \n",
       "25%           1.000000      51002.110000  \n",
       "50%           1.000000     100193.915000  \n",
       "75%           2.000000     149388.247500  \n",
       "max           4.000000     199992.480000  "
      ]
     },
     "execution_count": 19,
     "metadata": {},
     "output_type": "execute_result"
    }
   ],
   "source": [
    "churn.describe()"
   ]
  },
  {
   "cell_type": "markdown",
   "id": "f85ffae1",
   "metadata": {},
   "source": [
    "### Writng function for 5 number summary\n"
   ]
  },
  {
   "cell_type": "code",
   "execution_count": 30,
   "id": "d2a6c074",
   "metadata": {},
   "outputs": [],
   "source": [
    "def my_mean (variable): #this defines the the function and the argument it takes in \n",
    "    if len(variable) == 0: #This is specifying what excetion to raise if there is no data found to calculate mean \n",
    "        return (\"Can't calculate mean\") # Return displays \"Can't calculate mean\" instead of throwing an error mesage\n",
    "\n",
    "\n",
    "    mean = sum(variable)/len(variable)\n",
    "    return mean "
   ]
  },
  {
   "cell_type": "code",
   "execution_count": 33,
   "id": "984bc97c",
   "metadata": {},
   "outputs": [],
   "source": [
    "## Using mean function to get the mean of our variable\n",
    "varaible_dict= {\n",
    "    \"credit_score\": churn[\"credit_score\"],\n",
    "    \"age\": churn[\"age\"],\n",
    "    \"tenure\":churn[\"tenure\"],\n",
    "    \"balance\": churn[\"balance\"],\n",
    "    \"products_number\":churn[\"products_number\"],\n",
    "    \"estimated_salary\": churn[\"estimated_salary\"]  \n",
    "}"
   ]
  },
  {
   "cell_type": "code",
   "execution_count": 34,
   "id": "094ff1a1",
   "metadata": {},
   "outputs": [],
   "source": [
    "varaible_means = {key: my_mean(value) for key, value in varaible_dict.items()}"
   ]
  },
  {
   "cell_type": "markdown",
   "id": "b83ed88e",
   "metadata": {},
   "source": [
    "### Mean dictionary"
   ]
  },
  {
   "cell_type": "code",
   "execution_count": 35,
   "id": "85a0ecc6",
   "metadata": {},
   "outputs": [
    {
     "name": "stdout",
     "output_type": "stream",
     "text": [
      "{'credit_score': 650.5288, 'age': 38.9218, 'tenure': 5.0128, 'balance': 76485.88928799961, 'products_number': 1.5302, 'estimated_salary': 100090.2398809998}\n"
     ]
    }
   ],
   "source": [
    "print(varaible_means)"
   ]
  },
  {
   "cell_type": "markdown",
   "id": "736d7c17",
   "metadata": {},
   "source": [
    "### MEDIAN DICT"
   ]
  },
  {
   "cell_type": "code",
   "execution_count": null,
   "id": "0299a56d",
   "metadata": {},
   "outputs": [],
   "source": [
    "import numpy as np  # Assuming std_get is implemented using numpy\n",
    "\n",
    "def std_get(data):\n",
    "    return np.std(data)\n",
    "\n",
    "# Given data\n",
    "data_dict = {\n",
    "    \"call\": [1, 2, 3],\n",
    "    \"profit\": [4, 5, 6],\n",
    "    \"eat\": [7, 8, 9]\n",
    "}\n",
    "\n",
    "# Calculate standard deviation for each variable and store in a dictionary\n",
    "std_results = {key: std_get(value) for key, value in data_dict.items()}\n",
    "\n",
    "# Print the result\n",
    "print(std_results)\n",
    "\n"
   ]
  },
  {
   "cell_type": "code",
   "execution_count": null,
   "id": "b86e4b4c",
   "metadata": {},
   "outputs": [],
   "source": []
  },
  {
   "cell_type": "markdown",
   "id": "7598a17c",
   "metadata": {},
   "source": [
    "## Distribution visualisation### Explaining descriptive results\n",
    "### cont with explaing each values/varible "
   ]
  },
  {
   "cell_type": "markdown",
   "id": "52adf1e1",
   "metadata": {},
   "source": [
    "## Descriptive statistical summary table\n",
    "### Describing the shape of churn dataset\n",
    "\n",
    "The ***count*** parameter describes the shape of each varible. Statistical description discribed there 10,000 observations for all numerical variables in churn. This result corroborate earlier findings that suggests no null values present in churn['credit_card', 'age', 'tenure', 'balance', 'product_number', 'estimated_salary']. \n",
    "\n",
    "### Describing the distribution and location of dataset\n",
    "\n",
    "***Mean and Median:***\n",
    "The ***mean*** parameter in each variable explains the average of it's observations, while the ***Median*** parameter which is represented by '50%' represent the mid 50% of the obsevations in each variable. The ***Mode*** represent the most frequent data, therefor it take up most of the data, makes it position also at the center of data distribution with the mean and median. The relation between the mean, mode and median is used to explain if data are symetrically distributed or not. In a perfectly symetrical distribution, the mean and median are equal, this is opposit for Skewed/ non_symetrical distribution. In general,\n",
    "if the distribution of data is skewed to the left, the ***mean*** is less than the ***median***, and if the distribution of data is skewed to the right, the ***median*** is often less than the ***mean***(Statistics LibreTexts, 2015. In nutshell, if this 2 parameter are not equal, there is some sort of skeweness in the distribution of a data. Given this understanding, discriptive statistical result reveal that [credit_score, balance, estimated_salary] columns in churn are left skewed as their means are less than median, while the [tenure, product_number, age] are right skewed as their means are greater than median. \n",
    "\n",
    "***Standard deviation:*** \n",
    "This paramer is represented by ***std*** is our statistical table. It discribes how close or far away are the obsevations from the mean, the [\"age\", \"credit_score\", tenure, product_number] columns have a small std this result suggest their data are thightly grouped around the mean, while [balance, estimated_salary] columns, have data spaced from the mean.\n",
    "\n",
    "***minmum and maximum:*** \n",
    "This values are denoted by 'min' and 'max' on out statistical summary table, the diffrence betwen this 2 values gives us the range of data in each variabl.\n",
    "\n",
    "***25% and 75%:***\n",
    "\n",
    "This are the inter quartile range(IQR). They measure the spread of the data ***(refrence)***. The 25%'s are IQR1 while the 75%'s are the IQR3.\n",
    " "
   ]
  },
  {
   "cell_type": "code",
   "execution_count": null,
   "id": "1658bf0e",
   "metadata": {},
   "outputs": [],
   "source": []
  },
  {
   "cell_type": "markdown",
   "id": "7af03473",
   "metadata": {},
   "source": [
    "## 5 number summary visualisation"
   ]
  },
  {
   "cell_type": "markdown",
   "id": "45a40d45",
   "metadata": {},
   "source": [
    "## Distribution visualisation"
   ]
  },
  {
   "cell_type": "code",
   "execution_count": 21,
   "id": "7caa0a04",
   "metadata": {},
   "outputs": [
    {
     "data": {
      "text/plain": [
       "Text(0.5, 1.0, 'depth column distribution')"
      ]
     },
     "execution_count": 21,
     "metadata": {},
     "output_type": "execute_result"
    },
    {
     "data": {
      "image/png": "[encoded data removed]",
      "text/plain": [
       "<Figure size 640x480 with 1 Axes>"
      ]
     },
     "metadata": {},
     "output_type": "display_data"
    }
   ],
   "source": [
    "sns.histplot(data=churn, x= \"credit_score\")\n",
    "plt.title(\"depth column distribution\")"
   ]
  },
  {
   "cell_type": "code",
   "execution_count": 22,
   "id": "9a419985",
   "metadata": {},
   "outputs": [
    {
     "data": {
      "text/plain": [
       "Text(0.5, 1.0, 'depth column distribution')"
      ]
     },
     "execution_count": 22,
     "metadata": {},
     "output_type": "execute_result"
    },
    {
     "data": {
      "image/png": "[encoded data removed]",
      "text/plain": [
       "<Figure size 640x480 with 1 Axes>"
      ]
     },
     "metadata": {},
     "output_type": "display_data"
    }
   ],
   "source": [
    "sns.histplot(data=churn, x= \"tenure\")\n",
    "plt.title(\"depth column distribution\")\n",
    "# Adjust the beam in x axis to be smaller"
   ]
  },
  {
   "cell_type": "code",
   "execution_count": 23,
   "id": "fca37e05",
   "metadata": {},
   "outputs": [
    {
     "data": {
      "text/plain": [
       "Text(0.5, 1.0, 'depth column distribution')"
      ]
     },
     "execution_count": 23,
     "metadata": {},
     "output_type": "execute_result"
    },
    {
     "data": {
      "image/png": "[encoded data removed]",
      "text/plain": [
       "<Figure size 640x480 with 1 Axes>"
      ]
     },
     "metadata": {},
     "output_type": "display_data"
    }
   ],
   "source": [
    "sns.histplot(data=churn, x= \"estimated_salary\")\n",
    "plt.title(\"depth column distribution\")\n",
    "#adjust the x lable beam to be smaller "
   ]
  },
  {
   "cell_type": "code",
   "execution_count": 24,
   "id": "e204bc17",
   "metadata": {},
   "outputs": [
    {
     "data": {
      "text/plain": [
       "Text(0.5, 1.0, 'depth column distribution')"
      ]
     },
     "execution_count": 24,
     "metadata": {},
     "output_type": "execute_result"
    },
    {
     "data": {
      "image/png": "[encoded data removed]",
      "text/plain": [
       "<Figure size 640x480 with 1 Axes>"
      ]
     },
     "metadata": {},
     "output_type": "display_data"
    }
   ],
   "source": [
    "sns.histplot(data=churn, x= \"age\")\n",
    "plt.title(\"depth column distribution\")"
   ]
  },
  {
   "cell_type": "code",
   "execution_count": 25,
   "id": "5dbe325b",
   "metadata": {},
   "outputs": [
    {
     "data": {
      "text/plain": [
       "Text(0.5, 1.0, 'depth column distribution')"
      ]
     },
     "execution_count": 25,
     "metadata": {},
     "output_type": "execute_result"
    },
    {
     "data": {
      "image/png": "[encoded data removed]",
      "text/plain": [
       "<Figure size 640x480 with 1 Axes>"
      ]
     },
     "metadata": {},
     "output_type": "display_data"
    }
   ],
   "source": [
    "sns.histplot(data=churn, x= \"products_number\")\n",
    "plt.title(\"depth column distribution\")"
   ]
  },
  {
   "cell_type": "code",
   "execution_count": 26,
   "id": "e980589f",
   "metadata": {},
   "outputs": [
    {
     "data": {
      "text/plain": [
       "Text(0.5, 1.0, 'depth column distribution')"
      ]
     },
     "execution_count": 26,
     "metadata": {},
     "output_type": "execute_result"
    },
    {
     "data": {
      "image/png": "[encoded data removed]",
      "text/plain": [
       "<Figure size 640x480 with 1 Axes>"
      ]
     },
     "metadata": {},
     "output_type": "display_data"
    }
   ],
   "source": [
    "sns.histplot(data=churn, x= \"balance\")\n",
    "plt.title(\"depth column distribution\")"
   ]
  }
 ],
 "metadata": {
  "kernelspec": {
   "display_name": "Python 3 (ipykernel)",
   "language": "python",
   "name": "python3"
  },
  "language_info": {
   "codemirror_mode": {
    "name": "ipython",
    "version": 3
   },
   "file_extension": ".py",
   "mimetype": "text/x-python",
   "name": "python",
   "nbconvert_exporter": "python",
   "pygments_lexer": "ipython3",
   "version": "3.11.4"
  }
 },
 "nbformat": 4,
 "nbformat_minor": 5
}

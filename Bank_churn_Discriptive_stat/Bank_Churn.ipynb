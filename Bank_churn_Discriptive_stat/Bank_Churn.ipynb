{
 "cells": [
  {
   "cell_type": "markdown",
   "id": "9ab5fab5",
   "metadata": {},
   "source": [
    "## Refrences\n",
    "1. "
   ]
  },
  {
   "cell_type": "markdown",
   "id": "e949f24a",
   "metadata": {},
   "source": [
    "# 1. Introduction"
   ]
  },
  {
   "cell_type": "markdown",
   "id": "d59e5f3f",
   "metadata": {},
   "source": [
    "### 1.1 What is data\n",
    "Data is plain facts gathered within a defined context. Statistians would refer to it as a set of obsevations, which contained within variables or columns whith columns possessing varying/unique characteristics. Data can also be referred to as a piece of information after it has been summarised, and when subjected to analysis, data can be referred to as evidence of a hypothesis. Before data can become information and utilmately evidence it must go through a process. Data analysis is the process in which raw data is ordered and organized, to be used in methods that help to explain the past and predict the future (Hector, 2013).\n",
    "### 1.2 Forms of data\n",
    "Data is a generalised term, but within this term there are subdivisio"
   ]
  }
 ],
 "metadata": {
  "kernelspec": {
   "display_name": "Python 3 (ipykernel)",
   "language": "python",
   "name": "python3"
  },
  "language_info": {
   "codemirror_mode": {
    "name": "ipython",
    "version": 3
   },
   "file_extension": ".py",
   "mimetype": "text/x-python",
   "name": "python",
   "nbconvert_exporter": "python",
   "pygments_lexer": "ipython3",
   "version": "3.11.4"
  }
 },
 "nbformat": 4,
 "nbformat_minor": 5
}
